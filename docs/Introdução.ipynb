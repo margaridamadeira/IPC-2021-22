{
 "cells": [
  {
   "cell_type": "markdown",
   "metadata": {
    "slideshow": {
     "slide_type": "slide"
    }
   },
   "source": [
    "# Introdução\n",
    "\n",
    "\n",
    "Começamos com uma visão geral do enquadramento e da linguagem Python."
   ]
  },
  {
   "cell_type": "markdown",
   "metadata": {
    "slideshow": {
     "slide_type": "slide"
    }
   },
   "source": [
    "\n",
    "\n",
    "Neste capítulo veremos:\n",
    "\n",
    "1.  Porque escolhemos Python\n",
    "1.  Como funcionam os computadores\n",
    "1.  O que é uma linguagem de programação\n",
    "1.  Uma breve apresentação de Python"
   ]
  },
  {
   "cell_type": "markdown",
   "metadata": {
    "slideshow": {
     "slide_type": "slide"
    }
   },
   "source": [
    "### Porque escolhemos Python?\n",
    "\n",
    "A programação é a atividade de desenvolvimento de software. Quando aplicada à área científica, essa programação incide sobre os problemas específicos da área que visa; pretende-se a aquisição de conhecimento sobre princípios e conceitos de programação e contribuir para o desenvolvimento de competências de resolução de problemas científicos, de engenharia e em particular da bioengengharia, usando computadores.\n",
    "\n",
    "A linguagem [Python](https://www.python.org/):\n",
    "+ é uma linguagem interpretada \n",
    "+ permite a utilização de diversos paradigmas de programação\n",
    "+ dispõe de múltiplos recursos (módulos e bibliotecas), livres e gratuitos. \n"
   ]
  },
  {
   "cell_type": "markdown",
   "metadata": {
    "slideshow": {
     "slide_type": "slide"
    }
   },
   "source": [
    "\n",
    "Esta escolha permite também o alinhamento com a política da União Europeia de ciência aberta ([Open Science](https://ec.europa.eu/info/research-and-innovation/strategy/strategy-2020-2024/our-digital-future/open-science_pt)). \n",
    "Essa política promove também  que os dados devem poder ser encontrados, acedidos, entendidos, movidos entre sistemas e reutilizados ([FAIR data](https://www.nature.com/articles/sdata201618)).\n",
    "\n",
    "É com estes princípios que vamos começar a programar em Python e fazer ciência aberta. "
   ]
  },
  {
   "cell_type": "markdown",
   "metadata": {
    "slideshow": {
     "slide_type": "slide"
    }
   },
   "source": [
    "### Como funcionam os computadores?\n",
    "\n",
    "Um computador é um equipamento constituído por vários componentes.\n",
    "Qual é a resposta mais frequente a uma pergunta do tipo *Que computador tens?*\n",
    "\n"
   ]
  },
  {
   "cell_type": "markdown",
   "metadata": {
    "slideshow": {
     "slide_type": "slide"
    }
   },
   "source": [
    "#### *Que computador tens?*\n",
    "\n",
    "Tipicamente indicamos o processador, a quantidade de memória *RAM* e a\n",
    "dimensão do constituído por vários componentes.\n",
    "\n",
    "Mas há outros componentes num computador que, de tão comuns, nem nos lembramos de referir. Por exemplo, o teclado, o rato, o monitor.\n",
    "\n",
    "Na figura vemos a representação de alguns dos dispositivos que compõem um computador."
   ]
  },
  {
   "cell_type": "markdown",
   "metadata": {
    "slideshow": {
     "slide_type": "slide"
    }
   },
   "source": [
    "\n",
    "<img src=\"figures/sketch/computer_sk_transp.png\" alt=\"Esquema computador\" title=\"Diagrama simplificado de um computador\" style=\"height: 600px;\"/>"
   ]
  },
  {
   "cell_type": "markdown",
   "metadata": {
    "slideshow": {
     "slide_type": "slide"
    }
   },
   "source": [
    "A ideia básica é que quando o computador recebe um estímulo (pelo rato ou teclado), \n",
    "para produzir o resultado correspondente (apresentar no monitor) irá fazer processamento\n",
    "sobre esse estímulo, processamento esse que pode incluir alguns anteriores (que estão em memória ou no disco).\n",
    "\n",
    "Sugere-se a leitura da secção [Arquitetura de hardware](https://pt.wikipedia.org/wiki/Computador#Arquitetura_de_hardware) na Wikipédia.\n"
   ]
  },
  {
   "cell_type": "markdown",
   "metadata": {
    "slideshow": {
     "slide_type": "slide"
    }
   },
   "source": [
    "### O que é uma linguagem de programação?\n",
    "\n",
    "Uma linguagem de programação é uma forma de descrever um conjunto de\n",
    "actividades que pretendemos que sejam efetuadas para atingir um\n",
    "determinado fim.\n",
    "\n",
    "O conjunto de atividades necessárias para atingir esse fim é designado *algoritmo*.\n",
    "\n",
    "Um programa ou uma aplicação é a expressão de um algoritmo usando uma linguagem de programação e consiste em instruções. Assim, para um caso, ou para um problema, temos que saber como resolver para depois podermos fazer o programa.\n"
   ]
  },
  {
   "cell_type": "markdown",
   "metadata": {
    "slideshow": {
     "slide_type": "slide"
    }
   },
   "source": [
    "As linguagens de programação podem ser classificadas de acordo com as funcionalidades que \n",
    "oferecem ou com a abordagem (paradigma) para a descrição da solução. \n",
    "\n",
    "* No paradigma imperativo, as instruções são organizadas de forma a indicar as atividades a efetuar, essencialmente com uma estrutura que segue o ciclo de utilização do programa.  \n",
    "* No paradigma funcional, o modelo considera que temos um domínio, um contra-domínio e uma função de transformação. \n",
    "* No paradigma orientado a objetos, a realidade com que o programa lidará é representada com objetos que têm características (atributos) e comportamentos definidos (métodos)."
   ]
  },
  {
   "cell_type": "markdown",
   "metadata": {
    "slideshow": {
     "slide_type": "slide"
    }
   },
   "source": [
    "Algumas linguagens permitem que as instruções sejam executadas assim que são fornecidas: são as linguagens interpretadas. \n",
    "\n",
    "Outras linguagens requerem que o programa completo seja preparado para execução: são as linguagens compiladas."
   ]
  },
  {
   "cell_type": "markdown",
   "metadata": {
    "slideshow": {
     "slide_type": "slide"
    }
   },
   "source": [
    "#### Começar a usar\n",
    "\n",
    "Há muitas linguagens de programação. Normalmente, para termos a certeza que tudo está a funcionar \n",
    "como desejável, faz-se um pequeno programa *Hello World*. \n",
    "\n",
    "> Até há uma coleção desses programas [Hello World](http://helloworldcollection.de/)."
   ]
  },
  {
   "cell_type": "markdown",
   "metadata": {
    "slideshow": {
     "slide_type": "slide"
    }
   },
   "source": [
    "Como somos portugueses, o nosso cumprimento em Python seria"
   ]
  },
  {
   "cell_type": "code",
   "execution_count": 1,
   "metadata": {
    "slideshow": {
     "slide_type": "fragment"
    },
    "tags": []
   },
   "outputs": [
    {
     "name": "stdout",
     "output_type": "stream",
     "text": [
      "Olá mundo\n"
     ]
    }
   ],
   "source": [
    "print('Olá mundo')"
   ]
  },
  {
   "cell_type": "markdown",
   "metadata": {
    "slideshow": {
     "slide_type": "slide"
    }
   },
   "source": [
    "### Breve apresentação de Python\n"
   ]
  },
  {
   "cell_type": "markdown",
   "metadata": {
    "slideshow": {
     "slide_type": "slide"
    }
   },
   "source": [
    "\n",
    "Para programar, podemos:\n",
    "- transmitir as instruções diretamente ao Python, pela consola de comando do python\n",
    "\n",
    "```\n",
    "(base) C:\\Users\\User> python -c \"print('Olá mundo')\"\n",
    "```\n"
   ]
  },
  {
   "cell_type": "markdown",
   "metadata": {
    "slideshow": {
     "slide_type": "slide"
    }
   },
   "source": [
    "\n",
    "- podemos reunir as instruções num ficheiro com a extensão $.py$ e indicar ao Python que deve considerar esse ficheiro\n",
    "\n",
    "```\n",
    "(base) C:\\Users\\User>echo print('Ola, mundo') > ola.py\n",
    "\n",
    "(base) C:\\Users\\User>type ola.py\n",
    "print('Ola, mundo')\n",
    "\n",
    "(base) C:\\Users\\User>python ola.py\n",
    "Ola, mundo\n",
    "```"
   ]
  },
  {
   "cell_type": "markdown",
   "metadata": {
    "slideshow": {
     "slide_type": "slide"
    }
   },
   "source": [
    "- para o desenvovimento de soluções, a utilização de um ambiente de desenvolvimento integrado (em inglês, *Integrated development Environment*, IDE) pode ser conveniente. \n",
    "\n",
    "    Usaremos o Spyder. Por omissão, a janela inferior direita do Spyder é uma consola IPython, do lado esquerdo temos um editor de ficheiros e a janela superior direita permite, usando os separadores, ter acesso à ajuda em linha, ao estado das variáveis ou ao explorador de ficheiros.\n"
   ]
  },
  {
   "cell_type": "markdown",
   "metadata": {
    "slideshow": {
     "slide_type": "slide"
    }
   },
   "source": [
    "- para a apresentação e divulgação de materiais que reúnem texto formatado e blocos de código, usamos o *Jupyter Notebook* onde os ficheiros que têm a extensão $.ipynb$."
   ]
  },
  {
   "cell_type": "markdown",
   "metadata": {
    "slideshow": {
     "slide_type": "slide"
    }
   },
   "source": [
    "\n",
    "\n",
    "#### O IPython como interpretador de comandos\n",
    "\n",
    "O ambiente IPython, simples e interactivo, é extremamente conveniente para a aprendizagem da programação em Python, pois permite a elaboração de pequenos programas e sua experimentação. "
   ]
  },
  {
   "cell_type": "markdown",
   "metadata": {
    "slideshow": {
     "slide_type": "slide"
    }
   },
   "source": [
    "Na maioria dos tutoriais, a primeira proposta de utilização do Python é como [calculadora](https://docs.python.org/3/tutorial/introduction.html) simples. \n",
    "\n",
    "Isto porque o Python disponibiliza à partida, para além de algumas funcionalidades básicas, várias operações numéricas que podemos utilizar:\n",
    "\n",
    "    + (adição)\n",
    "    - (subtração)\n",
    "    * (multiplicação)\n",
    "    / (divisão)\n",
    "    ** (exponenciação)\n",
    "    // (divisão inteira)\n",
    "    % (resto da divisão inteira)"
   ]
  },
  {
   "cell_type": "markdown",
   "metadata": {
    "slideshow": {
     "slide_type": "slide"
    }
   },
   "source": [
    "A utilização das operações de adição, subtração, multiplicação e divisão é muito simples.\n",
    "O único cuidado que temos que ter é lembrarmo-nos da prioridade das operações e usar parenteses se for caso disso.\n",
    "Vejamos alguns exemplos."
   ]
  },
  {
   "cell_type": "code",
   "execution_count": 2,
   "metadata": {
    "slideshow": {
     "slide_type": "fragment"
    }
   },
   "outputs": [
    {
     "data": {
      "text/plain": [
       "13"
      ]
     },
     "execution_count": 2,
     "metadata": {},
     "output_type": "execute_result"
    }
   ],
   "source": [
    "5+4*2"
   ]
  },
  {
   "cell_type": "code",
   "execution_count": 3,
   "metadata": {
    "slideshow": {
     "slide_type": "-"
    }
   },
   "outputs": [
    {
     "data": {
      "text/plain": [
       "18"
      ]
     },
     "execution_count": 3,
     "metadata": {},
     "output_type": "execute_result"
    }
   ],
   "source": [
    "(5+4)*2"
   ]
  },
  {
   "cell_type": "markdown",
   "metadata": {
    "slideshow": {
     "slide_type": "slide"
    }
   },
   "source": [
    "A exponenciação é usada para calcular potências."
   ]
  },
  {
   "cell_type": "code",
   "execution_count": 4,
   "metadata": {
    "slideshow": {
     "slide_type": "fragment"
    }
   },
   "outputs": [
    {
     "data": {
      "text/plain": [
       "8"
      ]
     },
     "execution_count": 4,
     "metadata": {},
     "output_type": "execute_result"
    }
   ],
   "source": [
    "2**3 "
   ]
  },
  {
   "cell_type": "code",
   "execution_count": 5,
   "metadata": {
    "slideshow": {
     "slide_type": "-"
    }
   },
   "outputs": [
    {
     "data": {
      "text/plain": [
       "25"
      ]
     },
     "execution_count": 5,
     "metadata": {},
     "output_type": "execute_result"
    }
   ],
   "source": [
    "5**2"
   ]
  },
  {
   "cell_type": "markdown",
   "metadata": {
    "slideshow": {
     "slide_type": "slide"
    }
   },
   "source": [
    "A divisão inteira e resto da divisão inteira merece alguma atenção. Na divisão normal, teriamos"
   ]
  },
  {
   "cell_type": "code",
   "execution_count": 6,
   "metadata": {
    "slideshow": {
     "slide_type": "fragment"
    }
   },
   "outputs": [
    {
     "data": {
      "text/plain": [
       "3.5"
      ]
     },
     "execution_count": 6,
     "metadata": {},
     "output_type": "execute_result"
    }
   ],
   "source": [
    "7/2"
   ]
  },
  {
   "cell_type": "markdown",
   "metadata": {
    "slideshow": {
     "slide_type": "slide"
    }
   },
   "source": [
    "Na divisão inteira, o resultado é um número inteiro e poderá haver resto"
   ]
  },
  {
   "cell_type": "code",
   "execution_count": 7,
   "metadata": {
    "slideshow": {
     "slide_type": "fragment"
    }
   },
   "outputs": [
    {
     "data": {
      "text/plain": [
       "3"
      ]
     },
     "execution_count": 7,
     "metadata": {},
     "output_type": "execute_result"
    }
   ],
   "source": [
    "7//2"
   ]
  },
  {
   "cell_type": "code",
   "execution_count": 8,
   "metadata": {
    "slideshow": {
     "slide_type": "fragment"
    }
   },
   "outputs": [
    {
     "data": {
      "text/plain": [
       "1"
      ]
     },
     "execution_count": 8,
     "metadata": {},
     "output_type": "execute_result"
    }
   ],
   "source": [
    "7%2"
   ]
  },
  {
   "cell_type": "markdown",
   "metadata": {
    "slideshow": {
     "slide_type": "slide"
    }
   },
   "source": [
    "Existem funções, disponíveis em Python, que iremos conhecendo aos poucos. Tente determinar o resultado antes de executar a célula.\n",
    "\n",
    "```python\n",
    "    abs(-1)*max(1, 2, 3) + min(4, 5, 6)\n",
    "```\n",
    "\n",
    "Para executar a célula abaixo, remova o carater '#' que indica um comentário.\n"
   ]
  },
  {
   "cell_type": "code",
   "execution_count": 9,
   "metadata": {
    "slideshow": {
     "slide_type": "fragment"
    }
   },
   "outputs": [],
   "source": [
    "# abs(-1)*max(1, 2, 3) + min(4, 5, 6)"
   ]
  },
  {
   "cell_type": "markdown",
   "metadata": {
    "slideshow": {
     "slide_type": "slide"
    }
   },
   "source": [
    "Pode consultar a documentação, embora a forma exata possa variar consoante a ferramenta que está a usar (Spyder ou Jupyter). E frequentemente, há mais de uma maneira de obter essa documentação. Por exemplo,"
   ]
  },
  {
   "cell_type": "code",
   "execution_count": 10,
   "metadata": {
    "slideshow": {
     "slide_type": "fragment"
    }
   },
   "outputs": [],
   "source": [
    "?abs"
   ]
  },
  {
   "cell_type": "code",
   "execution_count": 11,
   "metadata": {
    "slideshow": {
     "slide_type": "-"
    }
   },
   "outputs": [],
   "source": [
    "abs?"
   ]
  },
  {
   "cell_type": "code",
   "execution_count": 12,
   "metadata": {
    "slideshow": {
     "slide_type": "-"
    },
    "tags": []
   },
   "outputs": [
    {
     "name": "stdout",
     "output_type": "stream",
     "text": [
      "Help on built-in function abs in module builtins:\n",
      "\n",
      "abs(x, /)\n",
      "    Return the absolute value of the argument.\n",
      "\n"
     ]
    }
   ],
   "source": [
    "help(abs)"
   ]
  },
  {
   "cell_type": "markdown",
   "metadata": {
    "slideshow": {
     "slide_type": "slide"
    }
   },
   "source": [
    "#### Uso de bibliotecas\n",
    "\n",
    "É de notar que existem numerosas e diversas bibliotecas com extensões à linguagem básica, que servem os mais diversos fins. Há bibliotecas que dão suporte a mecanismos de cálculo e visualização gráfica que poderão ser bastante úteis.\n"
   ]
  },
  {
   "cell_type": "markdown",
   "metadata": {
    "slideshow": {
     "slide_type": "fragment"
    }
   },
   "source": [
    "Nesta unidade curricular iremos por vezes usar alguns desses mecanismos. Iniciamos com a programação em Python e avançamos depois para a utilização das bibliotecas. \n",
    "\n",
    "Um exemplo é *Math*."
   ]
  },
  {
   "cell_type": "code",
   "execution_count": 13,
   "metadata": {
    "slideshow": {
     "slide_type": "slide"
    }
   },
   "outputs": [],
   "source": [
    "from math import *"
   ]
  },
  {
   "cell_type": "code",
   "execution_count": 14,
   "metadata": {
    "slideshow": {
     "slide_type": "fragment"
    }
   },
   "outputs": [
    {
     "data": {
      "text/plain": [
       "3.141592653589793"
      ]
     },
     "execution_count": 14,
     "metadata": {},
     "output_type": "execute_result"
    }
   ],
   "source": [
    "pi"
   ]
  },
  {
   "cell_type": "code",
   "execution_count": 15,
   "metadata": {
    "slideshow": {
     "slide_type": "-"
    }
   },
   "outputs": [
    {
     "data": {
      "text/plain": [
       "-1.0"
      ]
     },
     "execution_count": 15,
     "metadata": {},
     "output_type": "execute_result"
    }
   ],
   "source": [
    "cos(pi)"
   ]
  },
  {
   "cell_type": "markdown",
   "metadata": {
    "slideshow": {
     "slide_type": "-"
    }
   },
   "source": [
    "> *Sugestão*: Crie uma nova célula antes de importar *math* e tente obter o valor de $ \\pi $, ou o $ cos(2\\pi) $. A execução da célula vai falhar. Explique porquê."
   ]
  },
  {
   "cell_type": "code",
   "execution_count": 16,
   "metadata": {
    "slideshow": {
     "slide_type": "slide"
    }
   },
   "outputs": [
    {
     "data": {
      "text/plain": [
       "5.0"
      ]
     },
     "execution_count": 16,
     "metadata": {},
     "output_type": "execute_result"
    }
   ],
   "source": [
    "log(e**5)"
   ]
  },
  {
   "cell_type": "code",
   "execution_count": 17,
   "metadata": {
    "slideshow": {
     "slide_type": "fragment"
    }
   },
   "outputs": [
    {
     "data": {
      "text/plain": [
       "7.0"
      ]
     },
     "execution_count": 17,
     "metadata": {},
     "output_type": "execute_result"
    }
   ],
   "source": [
    "log2(1024)-log10(1000)"
   ]
  },
  {
   "cell_type": "markdown",
   "metadata": {
    "slideshow": {
     "slide_type": "slide"
    }
   },
   "source": [
    "Outro exemplo do que usaremos é *Matplotlib*.  \n",
    "Para ver a descrição, edite a linha abaixo e remova o comentário, isto é, apague o caracter '#'"
   ]
  },
  {
   "cell_type": "code",
   "execution_count": 18,
   "metadata": {
    "slideshow": {
     "slide_type": "fragment"
    }
   },
   "outputs": [],
   "source": [
    "#matplotlib?"
   ]
  },
  {
   "cell_type": "markdown",
   "metadata": {
    "slideshow": {
     "slide_type": "slide"
    }
   },
   "source": [
    "No futuro, para se trabalhar com vetores e matrizes, podemos usar *NumPy* ou outras alternativas. "
   ]
  },
  {
   "cell_type": "markdown",
   "metadata": {
    "slideshow": {
     "slide_type": "slide"
    }
   },
   "source": [
    "A instrução precedida de % é aquilo a que na terminologia do IPython se denomina *magic*, uma extensão à linguagem Python que facilita a interacção com o sistema. Introduziremos, quando necessário, outras magias do IPython. Para vermos os gráficos nesta página, fazemos"
   ]
  },
  {
   "cell_type": "code",
   "execution_count": 19,
   "metadata": {
    "slideshow": {
     "slide_type": "slide"
    },
    "tags": []
   },
   "outputs": [],
   "source": [
    "%matplotlib inline"
   ]
  },
  {
   "cell_type": "markdown",
   "metadata": {
    "slideshow": {
     "slide_type": "slide"
    }
   },
   "source": [
    "Neste caso e para efeitos de demonstração, precisamos de algumas *peças*. "
   ]
  },
  {
   "cell_type": "code",
   "execution_count": 20,
   "metadata": {},
   "outputs": [],
   "source": [
    "import numpy as np\n",
    "from matplotlib.pyplot import plot, pie, axis, legend"
   ]
  },
  {
   "cell_type": "markdown",
   "metadata": {
    "slideshow": {
     "slide_type": "fragment"
    }
   },
   "source": [
    "E já temos algumas funcionalidades disponíveis, por exemplo, para gerar gráficos."
   ]
  },
  {
   "cell_type": "markdown",
   "metadata": {
    "slideshow": {
     "slide_type": "slide"
    }
   },
   "source": [
    "#### Geração de gráficos\n",
    "\n",
    "A representação gráfica é uma parte importante e, felizmente, não é complicada.\n",
    "Vejamos como faríamos para representar a função $f(x) = x² $ quando o conjunto de partida é $ \\{0, 1, 2, 3, 4, 5 \\} $"
   ]
  },
  {
   "cell_type": "code",
   "execution_count": 21,
   "metadata": {
    "slideshow": {
     "slide_type": "fragment"
    }
   },
   "outputs": [],
   "source": [
    "x = np.arange(6) # "
   ]
  },
  {
   "cell_type": "code",
   "execution_count": 22,
   "metadata": {
    "slideshow": {
     "slide_type": "-"
    },
    "tags": []
   },
   "outputs": [
    {
     "name": "stdout",
     "output_type": "stream",
     "text": [
      "[0 1 2 3 4 5]\n"
     ]
    }
   ],
   "source": [
    "# O que está afinal no eixo do x\n",
    "print (x)"
   ]
  },
  {
   "cell_type": "code",
   "execution_count": 23,
   "metadata": {
    "slideshow": {
     "slide_type": "slide"
    }
   },
   "outputs": [
    {
     "data": {
      "image/png": "[encoded data removed]",
      "text/plain": [
       "<Figure size 432x288 with 1 Axes>"
      ]
     },
     "metadata": {
      "needs_background": "light"
     },
     "output_type": "display_data"
    }
   ],
   "source": [
    "plot(x, x**2);"
   ]
  },
  {
   "cell_type": "markdown",
   "metadata": {
    "slideshow": {
     "slide_type": "slide"
    }
   },
   "source": [
    "E como faríamos para representar as funções seno e coseno no mesmo gráfico?"
   ]
  },
  {
   "cell_type": "code",
   "execution_count": 24,
   "metadata": {
    "slideshow": {
     "slide_type": "fragment"
    }
   },
   "outputs": [],
   "source": [
    "x=np.arange(0,10,0.1); "
   ]
  },
  {
   "cell_type": "code",
   "execution_count": 25,
   "metadata": {
    "slideshow": {
     "slide_type": "-"
    }
   },
   "outputs": [
    {
     "data": {
      "image/png": "[encoded data removed]",
      "text/plain": [
       "<Figure size 432x288 with 1 Axes>"
      ]
     },
     "metadata": {
      "needs_background": "light"
     },
     "output_type": "display_data"
    }
   ],
   "source": [
    "plot(x, np.sin(x), 'r', x, np.cos(x),'b');"
   ]
  },
  {
   "cell_type": "markdown",
   "metadata": {
    "slideshow": {
     "slide_type": "slide"
    }
   },
   "source": [
    "Há outros tipos de gráficos para além do *plot*, e quando chegarmos lá veremos melhor. Uma *espreitadela* rápida ao que seremos capazes de fazer."
   ]
  },
  {
   "cell_type": "code",
   "execution_count": 26,
   "metadata": {
    "slideshow": {
     "slide_type": "fragment"
    }
   },
   "outputs": [],
   "source": [
    "# Retire o comentário da linha abaixo para ver a documentação\n",
    "#pie?"
   ]
  },
  {
   "cell_type": "code",
   "execution_count": 27,
   "metadata": {
    "slideshow": {
     "slide_type": "slide"
    }
   },
   "outputs": [
    {
     "data": {
      "image/png": "[encoded data removed]",
      "text/plain": [
       "<Figure size 432x288 with 1 Axes>"
      ]
     },
     "metadata": {},
     "output_type": "display_data"
    }
   ],
   "source": [
    "pie([45,30,10,10,4,1], labels=[45,30,10,19,4,1],frame=0);"
   ]
  },
  {
   "cell_type": "code",
   "execution_count": 28,
   "metadata": {
    "slideshow": {
     "slide_type": "slide"
    }
   },
   "outputs": [],
   "source": [
    "from matplotlib.pyplot import plot as dataplot "
   ]
  },
  {
   "cell_type": "code",
   "execution_count": 29,
   "metadata": {
    "slideshow": {
     "slide_type": "fragment"
    }
   },
   "outputs": [],
   "source": [
    "# Retire o comentário da linha abaixo para ver a documentação\n",
    "#?dataplot"
   ]
  },
  {
   "cell_type": "code",
   "execution_count": 30,
   "metadata": {
    "slideshow": {
     "slide_type": "slide"
    }
   },
   "outputs": [
    {
     "data": {
      "image/png": "[encoded data removed]",
      "text/plain": [
       "<Figure size 432x288 with 1 Axes>"
      ]
     },
     "metadata": {
      "needs_background": "light"
     },
     "output_type": "display_data"
    }
   ],
   "source": [
    "dataplot([1,2,3,4,5]);"
   ]
  },
  {
   "cell_type": "code",
   "execution_count": 31,
   "metadata": {
    "slideshow": {
     "slide_type": "slide"
    }
   },
   "outputs": [
    {
     "data": {
      "image/png": "[encoded data removed]",
      "text/plain": [
       "<Figure size 432x288 with 1 Axes>"
      ]
     },
     "metadata": {
      "needs_background": "light"
     },
     "output_type": "display_data"
    }
   ],
   "source": [
    "dataplot([1,-2,3,-4,5],\"ro-\");"
   ]
  },
  {
   "cell_type": "code",
   "execution_count": 32,
   "metadata": {
    "slideshow": {
     "slide_type": "slide"
    }
   },
   "outputs": [
    {
     "data": {
      "image/png": "[encoded data removed]",
      "text/plain": [
       "<Figure size 432x288 with 1 Axes>"
      ]
     },
     "metadata": {
      "needs_background": "light"
     },
     "output_type": "display_data"
    }
   ],
   "source": [
    "dataplot([1,5,3,4,2,6],\"g*--\");"
   ]
  },
  {
   "cell_type": "code",
   "execution_count": 33,
   "metadata": {
    "slideshow": {
     "slide_type": "slide"
    }
   },
   "outputs": [
    {
     "data": {
      "image/png": "[encoded data removed]",
      "text/plain": [
       "<Figure size 432x288 with 1 Axes>"
      ]
     },
     "metadata": {
      "needs_background": "light"
     },
     "output_type": "display_data"
    }
   ],
   "source": [
    "dataplot([1,2,3,4,5], \"go-\", label=\"line 1\", linewidth=2)\n",
    "dataplot([2,9,0,4], \"rs\",  label=\"line 2\")\n",
    "axis([-2, 8, -2, 10])\n",
    "legend();"
   ]
  },
  {
   "cell_type": "markdown",
   "metadata": {
    "slideshow": {
     "slide_type": "slide"
    }
   },
   "source": [
    "## Em resumo\n",
    "\n",
    "* O IPython é um ambiente de programação interactivo muito simples, apropriado à experimentação rápida de programas em Python, e portanto adequado à aprendizagem da programação\n",
    "* Munido das extensões adequadas o ambiente IPython pode ser utilizado como poderosa ferramenta de cálculo numérico e simbólico, e de visualização gráfica, extremamente útil em aplicações científicas, matemática e engenharia\n",
    "* A biblioteca Matplotlib fornece um ambiente de computação essencialmente equivalente ao popular sistema proprietário MATLAB, também muito usado em aplicações científicas. "
   ]
  }
 ],
 "metadata": {
  "celltoolbar": "Slideshow",
  "interpreter": {
   "hash": "9f33cf39e2d7bdb4fde9ff0c8efc9781963c9bbfdb9d3e3febfd47034224ac36"
  },
  "kernelspec": {
   "display_name": "Python 3 (ipykernel)",
   "language": "python",
   "name": "python3"
  },
  "language_info": {
   "codemirror_mode": {
    "name": "ipython",
    "version": 3
   },
   "file_extension": ".py",
   "mimetype": "text/x-python",
   "name": "python",
   "nbconvert_exporter": "python",
   "pygments_lexer": "ipython3",
   "version": "3.9.7"
  }
 },
 "nbformat": 4,
 "nbformat_minor": 4
}
