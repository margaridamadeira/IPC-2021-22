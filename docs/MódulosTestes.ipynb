{
 "cells": [
  {
   "cell_type": "markdown",
   "metadata": {
    "collapsed": true,
    "slideshow": {
     "slide_type": "fragment"
    }
   },
   "source": [
    "# Criação de soluções\n",
    "\n",
    "Hoje vamos ver algumas técnicas para criar soluções mais robustas, aproveitando para consolidar o que já vimos de programação."
   ]
  },
  {
   "cell_type": "markdown",
   "metadata": {},
   "source": [
    "## Objetivos de aprendizagem\n",
    "\n",
    "Vamos ver algumas técnicas usadas no processo de criação de soluções computacionais, nomeadamente:\n",
    "\n",
    "+ Etapas para a criação de uma solução\n",
    "+ Fluxogramas\n",
    "+ Pseudo-código\n",
    "+ documentação\n",
    "+ asserções"
   ]
  },
  {
   "cell_type": "markdown",
   "metadata": {
    "collapsed": true,
    "slideshow": {
     "slide_type": "slide"
    }
   },
   "source": [
    "## Criação de uma solução computacional\n",
    "\n",
    "\n",
    "```{figure} ./figures/passos.png\n",
    "---\n",
    "width: 400px\n",
    "name: Passos\n",
    "---\n",
    "Passos para uma solução computacional\n",
    "```\n",
    "\n",
    "1. Identificar o problema\n",
    "2. Análise do problema\n",
    "3. Formulação de um *algoritmo* para resolver o problema\n",
    "4. Descrição do *algoritmo* de forma simples, eventualmente escrevendo o programa\n",
    "5. Execução ou validação\n",
    "6. Solução\n",
    "\n",
    "\n",
    "A qualidade de uma solução computacional (6) está pois associada à escolha do algoritmo (3). \n"
   ]
  },
  {
   "cell_type": "markdown",
   "metadata": {},
   "source": [
    "### Algoritmo\n",
    "\n",
    "\n",
    "$$ Algoritmo + Linguagem\\ Programação = Programa $$\n",
    "\n",
    "\n",
    "Um algoritmo é uma sequência precisa de operações ou atividades que resolvem um problema num tempo finito.\n",
    "\n",
    "Um programa (ou *script*) é a expressão de um algoritmo usando uma linguagem de programação."
   ]
  },
  {
   "cell_type": "markdown",
   "metadata": {
    "slideshow": {
     "slide_type": "slide"
    }
   },
   "source": [
    "\n",
    "Juntando tudo isto, na resolução de problemas, tradicionalmente identificavam-se as fases:\n",
    "\n",
    "```{figure} ./figures/etapas_1.jpg\n",
    "---\n",
    "width: 400px\n",
    "name: Etapas1\n",
    "---\n",
    "Análise e desenho\n",
    "```\n",
    "\n",
    "* Fase de **Análise**: decidir o que temos que fazer.\n",
    "* Fase de **Desenho** (conceção de uma solução): decidir como se fará, é o desenvolvimento do *algoritmo*. \n",
    "    * Uma abordagem popular é *TOP-DOWN*, onde um problema complexo se resolve dividindo o problema em subproblemas, e assim sucesivamente até que a resolução de um problema seja de fácil solução.\n"
   ]
  },
  {
   "cell_type": "markdown",
   "metadata": {
    "slideshow": {
     "slide_type": "slide"
    }
   },
   "source": [
    "#### Caraterísticas desejáveis de um algoritmo\n",
    "\n",
    "+ Terminar _sempre_ \n",
    "+ Concreto e sem ambiguidade\n",
    "+ Simples e, se tiver várias etapas, com ordem de aplicação definida\n",
    "+ Funcionar _sempre_, independentemente dos dados de entrada (eficaz)\n",
    "+ Factível\n",
    "+ Independente da linguagem de programação e plataforma de implementação"
   ]
  },
  {
   "cell_type": "markdown",
   "metadata": {
    "slideshow": {
     "slide_type": "slide"
    }
   },
   "source": [
    "\n",
    "```{figure} ./figures/etapas_2.jpg\n",
    "---\n",
    "width: 400px\n",
    "name: Etapas2\n",
    "---\n",
    "Codificação, testes e documentação\n",
    "```\n",
    "\n",
    "* Fase de **Codificação**: a implementação do algoritmo numa linguagem de programação adequada.\n",
    "* Fase de **Testes**: não basta terminar o programa; há que garantir que o programa não falha e funciona para todos os casos possíveis.\n",
    "* Fase de **Documentação**: produzir a documentação do programa, facilitando a reutilização futura bem como eventuais alterações."
   ]
  },
  {
   "cell_type": "markdown",
   "metadata": {
    "slideshow": {
     "slide_type": "slide"
    }
   },
   "source": [
    "A abordagem que **nós** usamos na fase de análise é decompor o nosso problema:\n",
    "+ em pequenas unidades, que identificamos com uma função, com nome mas vazia\n",
    "+ descrevemos sucintamente o objetivo na documentação\n",
    "+ esboçamos os testes para definir o que cada função deve fazer.\n",
    "\n"
   ]
  },
  {
   "cell_type": "markdown",
   "metadata": {
    "slideshow": {
     "slide_type": "slide"
    }
   },
   "source": [
    "## Como descrever soluções\n",
    "\n",
    "Numa abordagem inicial, é frequente sugerir-se o uso de:\n",
    "* pseudocódigo para enunciar o algoritmo\n",
    "* diagramas de fluxo para visualização do algoritmo\n"
   ]
  },
  {
   "cell_type": "markdown",
   "metadata": {
    "slideshow": {
     "slide_type": "subslide"
    }
   },
   "source": [
    "### Exemplo de pseudo-código\n",
    "\n",
    "    Paridade (número n)\n",
    "\n",
    "    Início:\n",
    "\n",
    "    Avaliar:\n",
    "        se n = 2\n",
    "            escreve \"Par\"\n",
    "            Vai para Fim\n",
    "        senão\n",
    "            se n = 1\n",
    "                escreve \"Ímpar\"\n",
    "                Vai para Fim\n",
    "            senão\n",
    "                n = n - 2\n",
    "                Vai para Avaliar\n",
    "            fim se\n",
    "        fim se\n",
    "    \n",
    "    Fim: Termina\n",
    "\n"
   ]
  },
  {
   "cell_type": "markdown",
   "metadata": {},
   "source": [
    "### Símbolos mais comuns num fluxograma\n",
    "\n",
    "\n",
    "```{figure} ./figures/SimbFluxogr.jpg\n",
    "---\n",
    "width: 400px\n",
    "name: Símbolos\n",
    "---\n",
    "Símbolos\n",
    "```"
   ]
  },
  {
   "cell_type": "markdown",
   "metadata": {
    "slideshow": {
     "slide_type": "subslide"
    }
   },
   "source": [
    "### Exemplo de fluxograma\n",
    "\n",
    "\n",
    "```{figure} ./figures/AlgParidade.jpg\n",
    "---\n",
    "width: 400px\n",
    "name: Paridade\n",
    "---\n",
    "Paridade\n",
    "```"
   ]
  },
  {
   "cell_type": "markdown",
   "metadata": {
    "slideshow": {
     "slide_type": "slide"
    }
   },
   "source": [
    "### Exercícios propostos\n",
    "\n",
    "Como faria (pseudo-código ou fluxograma) para:\n",
    "\n",
    "+ Troca\n",
    "    * Em $a$ e $b$ tenho duas quantidades em que $a > b$. Pretendo garantir que $a < b$.\n",
    "+ Enumeração\n",
    "    * Tenho uma coleção de elementos. Pretendo saber quantos elementos contém.\n",
    "    * Tenho uma coleção de elementos. Pretendo examiná-los todos.\n",
    "+ Acumulação\n",
    "    * Tenho uma coleção de elementos. Pretendo o valor do somatório.\n",
    "+ Ordenação\n",
    "    * Tenho uma coleção de elementos. Pretendo que o conjunto fique ordenado crescentemente.\n",
    "+ Procura\n",
    "    * Tenho uma coleção de elementos. Pretendo saber se determinado elemento existe.\n"
   ]
  },
  {
   "cell_type": "markdown",
   "metadata": {
    "slideshow": {
     "slide_type": "slide"
    }
   },
   "source": [
    "## Codificação, testes e documentação\n",
    "\n",
    "O conceito de programação imperativa (ou declarativa) é um estilo de programação em que a atividade de um computador é orientada por instruções.\n",
    "\n",
    "Essas instruções traduzirão então as ordens a cumprir, seja *ler*, *escrever*, *somar*, *repetir até* entre outras.\n",
    "\n",
    "Normalmente a programação imperativa deseja-se *estruturada* em atividades bem delimitadas, que se pretendem simples e pequenas (*Keep it simple, keep it small*). \n",
    "\n",
    "Na programação estruturada tipicamente ocorre a leitura de dados, o processamento e a escrita de resultados. O processamento é organizado numa sequência de atividades, cada uma delas concretizada por pequenos conjuntos de instruções (*procedimentos* ou *funções*)."
   ]
  },
  {
   "cell_type": "markdown",
   "metadata": {
    "slideshow": {
     "slide_type": "slide"
    }
   },
   "source": [
    "### Exemplo: paridade\n",
    "\n",
    "Como exemplo de um algoritmo, foi referido o teste de paridade de um número. No caso geral teríamos:\n",
    "\n",
    "#### Exemplo de pseudo-código\n",
    "    Início:\n",
    "        Ler dados\n",
    "        Avaliar se é par\n",
    "        Escrever resultado\n",
    "        \n",
    "    Fim: Termina\n",
    "        "
   ]
  },
  {
   "cell_type": "markdown",
   "metadata": {
    "slideshow": {
     "slide_type": "slide"
    }
   },
   "source": [
    "Ler os dados e escrever os resultados é normalmente o mais simples.\n",
    "\n",
    "    Ler dados:\n",
    "        pedir entrada\n",
    "        enquanto entrada inválida\n",
    "            pedir entrada\n",
    "        fim enquanto\n",
    "            \n",
    "    Escrever resultado:\n",
    "        mostrar resultado"
   ]
  },
  {
   "cell_type": "markdown",
   "metadata": {
    "slideshow": {
     "slide_type": "slide"
    }
   },
   "source": [
    "Avaliar a paridade pode ser feito de várias maneiras. Como tínhamos à pouco:\n",
    "\n",
    "    Avaliar:\n",
    "        se n = 2\n",
    "            resultado é \"Par\"            \n",
    "        senão\n",
    "            se n = 1\n",
    "                resultado é \"Ímpar\"                \n",
    "            senão\n",
    "                n = n - 2\n",
    "                Avaliar \n",
    "        fim se\n",
    "E como implementamos a função avaliar? De forma recursiva ou iterativa?\n",
    "\n",
    "        "
   ]
  },
  {
   "cell_type": "markdown",
   "metadata": {
    "slideshow": {
     "slide_type": "slide"
    }
   },
   "source": [
    "A abordagem pretentida (iterativa ou recursiva) pode ficar clara na definição do algoritmo. Assim:\n",
    "\n",
    "<img src=\"./figures/Alg_paridade_2.jpg\" alt=\"Paridade\" style=\"width: 400px;\"/>"
   ]
  },
  {
   "cell_type": "markdown",
   "metadata": {
    "slideshow": {
     "slide_type": "slide"
    }
   },
   "source": [
    "ou seja:\n",
    "\n",
    "    Avaliar:\n",
    "        enquanto n > 2\n",
    "            n = n - 2     < == iterativo\n",
    "        fim enquanto\n",
    "        \n",
    "        se n = 2\n",
    "            resultado é \"Par\"\n",
    "        senão\n",
    "            resultado é \"Ímpar\"                \n",
    "        fim se\n",
    "        "
   ]
  },
  {
   "cell_type": "markdown",
   "metadata": {
    "slideshow": {
     "slide_type": "slide"
    }
   },
   "source": [
    "### Codificação e documentação\n",
    "\n",
    "E como ficaria em Python? \n",
    "\n",
    "Vamos incluir a documentação, usando uma *docstring* mais completa e garantindo a qualidade do bloco de código usando asserções (*assert*). Considere a função na forma que a seguir se apresenta, _com erro_ na terceira linha de documentação."
   ]
  },
  {
   "cell_type": "code",
   "execution_count": 19,
   "metadata": {
    "collapsed": true,
    "slideshow": {
     "slide_type": "slide"
    }
   },
   "outputs": [],
   "source": [
    "def paridade_2 (n):\n",
    "    \"\"\" Função que determina se um número natural positivo é par ou ímpar.\n",
    "    \n",
    "    Argumento:\n",
    "        n (int): número a avaliar\n",
    "\n",
    "    Devolve:\n",
    "        str: \"Par\" ou \"Ímpar\"\n",
    "\n",
    "    Exemplos:\n",
    "        >>> paridade_2 (3)\n",
    "        'Ímpar'\n",
    "        >>> paridade_2 (4)\n",
    "        'Par'\n",
    "        >>> paridade_2 (25)\n",
    "        'Par'\n",
    "    \"\"\"\n",
    "    assert type(n) is int, \"n não é um inteiro: %r\" % n\n",
    "    assert n >0, \"n não é maior que zero: %r\" % n\n",
    "    while (n>2):\n",
    "        n = n-2\n",
    "        \n",
    "    if (n == 2):\n",
    "        resultado = 'Par'\n",
    "    else:\n",
    "        resultado = 'Ímpar'\n",
    "    \n",
    "    return resultado"
   ]
  },
  {
   "cell_type": "code",
   "execution_count": 20,
   "metadata": {
    "slideshow": {
     "slide_type": "slide"
    }
   },
   "outputs": [
    {
     "data": {
      "text/plain": [
       "'Ímpar'"
      ]
     },
     "execution_count": 20,
     "metadata": {},
     "output_type": "execute_result"
    }
   ],
   "source": [
    "paridade_2(5)"
   ]
  },
  {
   "cell_type": "code",
   "execution_count": 21,
   "metadata": {
    "slideshow": {
     "slide_type": "-"
    }
   },
   "outputs": [
    {
     "data": {
      "text/plain": [
       "'Par'"
      ]
     },
     "execution_count": 21,
     "metadata": {},
     "output_type": "execute_result"
    }
   ],
   "source": [
    "paridade_2(4)"
   ]
  },
  {
   "cell_type": "markdown",
   "metadata": {},
   "source": [
    "Para verificarmos que a função poderíamos fazer"
   ]
  },
  {
   "cell_type": "code",
   "execution_count": 22,
   "metadata": {},
   "outputs": [
    {
     "name": "stdout",
     "output_type": "stream",
     "text": [
      "**********************************************************************\n",
      "File \"__main__\", line 15, in __main__.paridade_2\n",
      "Failed example:\n",
      "    paridade_2 (25)\n",
      "Expected:\n",
      "    'Par'\n",
      "Got:\n",
      "    'Ímpar'\n",
      "**********************************************************************\n",
      "File \"__main__\", line 13, in __main__.paridade_3\n",
      "Failed example:\n",
      "    paridade_3 (3)\n",
      "Exception raised:\n",
      "    Traceback (most recent call last):\n",
      "      File \"/home/mmadeira/anaconda3/envs/IPC-2021-22/lib/python3.7/doctest.py\", line 1337, in __run\n",
      "        compileflags, 1), test.globs)\n",
      "      File \"<doctest __main__.paridade_3[0]>\", line 1, in <module>\n",
      "        paridade_3 (3)\n",
      "      File \"<ipython-input-17-5e9eb2070f31>\", line 18, in paridade_3\n",
      "        assert type(n[0]) is int, \"n não é um inteiro: %r\" % n\n",
      "    TypeError: 'int' object is not subscriptable\n",
      "**********************************************************************\n",
      "File \"__main__\", line 15, in __main__.paridade_3\n",
      "Failed example:\n",
      "    paridade_3 (4)\n",
      "Exception raised:\n",
      "    Traceback (most recent call last):\n",
      "      File \"/home/mmadeira/anaconda3/envs/IPC-2021-22/lib/python3.7/doctest.py\", line 1337, in __run\n",
      "        compileflags, 1), test.globs)\n",
      "      File \"<doctest __main__.paridade_3[1]>\", line 1, in <module>\n",
      "        paridade_3 (4)\n",
      "      File \"<ipython-input-17-5e9eb2070f31>\", line 18, in paridade_3\n",
      "        assert type(n[0]) is int, \"n não é um inteiro: %r\" % n\n",
      "    TypeError: 'int' object is not subscriptable\n",
      "**********************************************************************\n",
      "2 items had failures:\n",
      "   1 of   3 in __main__.paridade_2\n",
      "   2 of   2 in __main__.paridade_3\n",
      "***Test Failed*** 3 failures.\n"
     ]
    },
    {
     "data": {
      "text/plain": [
       "'Par'"
      ]
     },
     "execution_count": 22,
     "metadata": {},
     "output_type": "execute_result"
    }
   ],
   "source": [
    "import doctest\n",
    "doctest.testmod()\n",
    "paridade_2(4)"
   ]
  },
  {
   "cell_type": "code",
   "execution_count": 23,
   "metadata": {},
   "outputs": [],
   "source": [
    "# Garantimos que a função não é usada de forma incorreta.\n",
    "# Retire o comentário da próxima linha para ver o erro.\n",
    "# paridade_2(5.0)"
   ]
  },
  {
   "cell_type": "code",
   "execution_count": 24,
   "metadata": {},
   "outputs": [],
   "source": [
    "# Garantimos que a função não é usada de forma incorreta.\n",
    "# Retire o comentário da próxima linha para ver o erro.\n",
    "# paridade_2(-3)"
   ]
  },
  {
   "cell_type": "code",
   "execution_count": 25,
   "metadata": {
    "slideshow": {
     "slide_type": "-"
    }
   },
   "outputs": [
    {
     "name": "stdout",
     "output_type": "stream",
     "text": [
      "Help on function paridade_2 in module __main__:\n",
      "\n",
      "paridade_2(n)\n",
      "    Função que determina se um número natural positivo é par ou ímpar.\n",
      "    \n",
      "    Argumento:\n",
      "        n (int): número a avaliar\n",
      "    \n",
      "    Devolve:\n",
      "        str: \"Par\" ou \"Ímpar\"\n",
      "    \n",
      "    Exemplos:\n",
      "        >>> paridade_2 (3)\n",
      "        'Ímpar'\n",
      "        >>> paridade_2 (4)\n",
      "        'Par'\n",
      "        >>> paridade_2 (25)\n",
      "        'Par'\n",
      "\n"
     ]
    }
   ],
   "source": [
    "help(paridade_2)"
   ]
  },
  {
   "cell_type": "markdown",
   "metadata": {},
   "source": [
    "Note que o uso de asserções não dispensa a validação dos dados.\n",
    "\n",
    "Quando uma asserção não se verifica, o programa termina de forma abrupta, em erro, e isso não é adequado.\n",
    "\n",
    "Mas as funções que são feitas podem ser usados noutros contextos, que não o do programa inicial. O uso de asserções ajuda a criar soluções mais robustas, pois numa função podemos verificar que as condições necessárias para a sua utilização."
   ]
  },
  {
   "cell_type": "markdown",
   "metadata": {
    "slideshow": {
     "slide_type": "slide"
    }
   },
   "source": [
    "## Alguns pontos curiosos\n",
    "\n",
    "### Efeitos colaterais\n",
    "Porque criamos as funções, há que ter cuidado com as atividades das funções.\n",
    "Por exemplo, "
   ]
  },
  {
   "cell_type": "markdown",
   "metadata": {
    "slideshow": {
     "slide_type": "-"
    }
   },
   "source": [
    "Se em vez de um inteiro, desenhassemos a função para trabalhar com o primeiro elemento de uma lista de inteiros, usando a mesma abordagem ..."
   ]
  },
  {
   "cell_type": "code",
   "execution_count": 26,
   "metadata": {
    "collapsed": true,
    "slideshow": {
     "slide_type": "slide"
    }
   },
   "outputs": [],
   "source": [
    "def paridade_3 (n):\n",
    "    \"\"\" Função que determina se o primeiro elemento de uma lista \n",
    "        de números naturais positivos é par ou ímpar.\n",
    "    \n",
    "    Argumento:\n",
    "        n (lista)\n",
    "\n",
    "    Devolve:\n",
    "        str: \"Par\" ou \"Ímpar\"\n",
    "\n",
    "    Exemplos:\n",
    "        >>>\n",
    "        >>> paridade_3 (3)\n",
    "        'Ímpar'\n",
    "        >>> paridade_3 (4)\n",
    "        'Par'\n",
    "    \"\"\"\n",
    "    assert type(n[0]) is int, \"n não é um inteiro: %r\" % n\n",
    "    assert n[0] > 0, \"n não é maior que zero: %r\" % n\n",
    "    while (n[0]>2):\n",
    "        n[0] = n[0]-2\n",
    "    if (n[0] == 2):\n",
    "        resultado = 'Par'\n",
    "    if (n[0] == 1):\n",
    "        resultado = 'Ímpar'\n",
    "    \n",
    "    return resultado"
   ]
  },
  {
   "cell_type": "code",
   "execution_count": 27,
   "metadata": {
    "slideshow": {
     "slide_type": "slide"
    }
   },
   "outputs": [
    {
     "name": "stdout",
     "output_type": "stream",
     "text": [
      "Par 6\n",
      "Par [2]\n"
     ]
    }
   ],
   "source": [
    "# Muito importante! \n",
    "n = 6\n",
    "m = [6]\n",
    "print (paridade_2(n), n)\n",
    "print(paridade_3(m), m)"
   ]
  },
  {
   "cell_type": "markdown",
   "metadata": {
    "slideshow": {
     "slide_type": "slide"
    }
   },
   "source": [
    "### Outros cuidados a ter\n",
    "\n",
    "Não deve existir uma saída abrupta (return dentro do ciclo de controlo, p. exemplo). \n",
    "\n",
    "Cada função deve ter apenas um return.\n",
    "\n",
    "A aglutinação de operadores torna\n",
    "+ o código mais compacto\n",
    "+ menos legível\n",
    "+ pode esconder eventuais efeitos colaterais\n",
    "\n",
    "portanto deve ser usada com cuidado."
   ]
  },
  {
   "cell_type": "markdown",
   "metadata": {
    "slideshow": {
     "slide_type": "slide"
    }
   },
   "source": [
    "## Exercício proposto\n",
    "\n",
    "1. Inclua documentação e testes na função que fez para validar uma data na tarefa D do Lab4."
   ]
  }
 ],
 "metadata": {
  "celltoolbar": "Slideshow",
  "kernelspec": {
   "display_name": "Python 3",
   "language": "python",
   "name": "python3"
  },
  "language_info": {
   "codemirror_mode": {
    "name": "ipython",
    "version": 3
   },
   "file_extension": ".py",
   "mimetype": "text/x-python",
   "name": "python",
   "nbconvert_exporter": "python",
   "pygments_lexer": "ipython3",
   "version": "3.7.9"
  }
 },
 "nbformat": 4,
 "nbformat_minor": 1
}
