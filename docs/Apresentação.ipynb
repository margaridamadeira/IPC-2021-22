{
 "cells": [
  {
   "cell_type": "markdown",
   "metadata": {
    "slideshow": {
     "slide_type": "slide"
    }
   },
   "source": [
    "# Introdução à programação científica"
   ]
  },
  {
   "cell_type": "markdown",
   "metadata": {
    "slideshow": {
     "slide_type": "subslide"
    }
   },
   "source": [
    "## O que é?\n",
    "\n",
    "Introdução à programação científica (IPC) é a disciplina onde se apresenta a programação a alunos de [Bioengenharia](https://www.ualg.pt/pt/curso/1907). Pode ver a [Ficha da Unidade Curricular](https://academico.ualg.pt/netpa/doc?codeDiscip=19071001&anoLectivo=202122&codInstituic=9&stage=FichaUnidadeCurricular&_event=publicacaoFUC&docIsAttachment=false&popup_mode=true) a partir da Tutoria."
   ]
  },
  {
   "cell_type": "markdown",
   "metadata": {
    "slideshow": {
     "slide_type": "subslide"
    }
   },
   "source": [
    "## Quando?\n",
    "\n",
    "Em qualquer nomento pode consultar o [horário](https://calendar.google.com/calendar/embed?src=eg5a54i2kbfgce9id7vmet9oi0%40group.calendar.google.com&bgcolor=%23FFFFFF&) do curso. \n",
    "Note que a distribuição semanal **muda**."
   ]
  },
  {
   "cell_type": "markdown",
   "metadata": {
    "slideshow": {
     "slide_type": "slide"
    }
   },
   "source": [
    "## Como?\n",
    "\n",
    "Nas aulas teóricas, vamos discutir os temas da disciplina, através de apresentações, ou demonstrações ou esboçar soluções alternativas que ilustram o desenvolvimento de programas. Teremos uma aula teórica de uma hora por semana.\n",
    "\n",
    "Nas aulas práticas, vamos resolver pequenos problemas de programação ou realizar trabalhos mais longos, com guião, no computador. Teremos três horas de aulas práticas laboratoriais por semana, divididas em dois blocos de hora e meia.\n",
    "\n",
    "Haverá também algum trabalho, individual ou em grupo, a ser realizado fora das aulas."
   ]
  },
  {
   "cell_type": "markdown",
   "metadata": {
    "slideshow": {
     "slide_type": "slide"
    }
   },
   "source": [
    "## Para quê?\n",
    "\n",
    "As tecnologias de informação e comunicação têm aplicação em diferentes áreas. No caso das áreas científicas, as ferramentas informáticas permitem usar (e criar) soluções que aceleram o desenvolvimento do trabalho e facilitam a sua divulgação.\n"
   ]
  },
  {
   "cell_type": "markdown",
   "metadata": {
    "slideshow": {
     "slide_type": "subslide"
    }
   },
   "source": [
    "Assim, vão:\n",
    "+ Compreender a utilização da programação na resolução de problemas do âmbito da sua disciplina de estudos.\n",
    "+ Identificar as principais componentes dos sistemas computacionais e sua relação com a programação.\n",
    "+ Dominar com razoável à-vontade as técnicas de programação elementares.\n",
    "+ Resolver autonomamente problemas de programação simples.\n",
    "+ Apreciar a complexidade algorítmica dos programas que escrevem.\n",
    "+ Conhecer os fundamentos da programação vetorial e matricial.\n",
    "+ Tirar partido das técnicas básicas da programação gráfica (como representação simples de pontos em 2D e 3D, histogramas, gráficos de barras).\n",
    "+ Utilizar funcionalidades de bibliotecas de estatística, de álgebra simbólica, de manipulação de dados e de programação numérica."
   ]
  },
  {
   "cell_type": "markdown",
   "metadata": {
    "slideshow": {
     "slide_type": "slide"
    }
   },
   "source": [
    "## Por que meios?\n",
    "\n",
    "Vamos usar Python, que permitirá criar soluções (*scripts* e programas). \n",
    "Em alguns casos, as soluções completas são feitas por nós, noutros casos vamos usar algumas bibliotecas, usufruindo das funcionalidades que contêm.\n",
    "E vamos usar ferramentas de suporte à atividade de programar, aplicar a solução ao caso em estudo e apresentar a solução proposta.\n",
    "\n",
    "E o que vamos usar, é de acesso livre e gratuito."
   ]
  },
  {
   "cell_type": "markdown",
   "metadata": {},
   "source": [
    "## Sobre as aulas práticas laboratoriais\n",
    "\n",
    "Aqui encontra a descrição da infraestrutura computacional da UAlg, disponível para as aulas práticas. São também indicados os programas que deverá instalar se preferir trabalhar no seu computador pessoal, seja em sala ou em casa.\n",
    "\n",
    "### Apoio informático\n",
    "\n",
    "A informação dos Serviços de Informática da Universidade sobre [Apoio informático](https://fct.ualg.pt/suporte-informatico) e [Software e aplicações](https://fct.ualg.pt/software-e-aplicacoes) poderá ser útil.\n",
    "\n",
    "### Salas\n",
    "\n",
    "As salas com terminais da Faculdade de Ciências e Tecnologia (FCT) onde decorrem os laboratórios de Introdução à programação científica, estão equipadas com computadores ligados à rede UAlg e acesso a um conjunto de recursos. Esta organização é muito prática, pois assim teremos os programas necessários para trabalhar.\n",
    "\n",
    "Desta forma, é possível oferecer aos alunos a capacidade de trabalhar desde o início com as aplicações convenientes, não sendo necessário que os alunos usem os seus computadores pessoais e os tenham que trazer para as aulas práticas. Ainda assim, muitos alunos preferem usar também o seu computador pessoal, porque pode ser mais conveniente ter sempre acesso ao sistema e ambiente de trabalho. Para partilhar ficheiros entre o sistema pessoal e o usado nas aulas práticas sugere-se um sistema de partilha de ficheiros como o [OneDrive](https://portal.office.com/OLS/MySoftware.aspx) (onde os alunos têm 1 TB).\n",
    "\n",
    "Em todo o caso, todos os alunos devem familiarizar-se com o sistema da Universidade do Algarve, que é a referência a ter em conta.\n",
    "\n",
    "### Identificar as ferramentas a utilizar\n",
    "\n",
    "\n",
    "Na área de trabalho acessível pelos computadores do laboratório já temos todo o software de que precisamos. \n",
    "\n",
    "Talvez queira instalar no seu computador a plataforma [Anaconda](https://www.anaconda.com/products/individual) ou pelo menos o [Python](https://www.python.org/downloads/), o [Spyder](https://www.spyder-ide.org/) e [Jupyter Notebook](https://jupyter.org/install). Visite as páginas indicadas, para se situar e depois instale nos seus computadores.\n",
    "\n",
    "\n",
    "### E finalmente\n",
    "\n",
    "Provavelmente, está a ler este documento a partir da página de Web de Introdução à programação científica na chamada Tutoria Eletrónica da Universidade do Algarve, ou, mais simplesmente, Tutoria. Portanto, já sabe como é. Sugiro que guarde a página nos favoritos do seu navegador, e que coloque o link de acesso bem a jeito, pois vai usar a página muitas vezes.\n",
    "\n",
    "\n",
    "\n",
    "\n",
    "\n"
   ]
  }
 ],
 "metadata": {
  "celltoolbar": "Slideshow",
  "kernelspec": {
   "display_name": "Python 3 (ipykernel)",
   "language": "python",
   "name": "python3"
  },
  "language_info": {
   "codemirror_mode": {
    "name": "ipython",
    "version": 3
   },
   "file_extension": ".py",
   "mimetype": "text/x-python",
   "name": "python",
   "nbconvert_exporter": "python",
   "pygments_lexer": "ipython3",
   "version": "3.9.7"
  }
 },
 "nbformat": 4,
 "nbformat_minor": 4
}
