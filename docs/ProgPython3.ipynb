{
 "cells": [
  {
   "cell_type": "markdown",
   "metadata": {
    "slideshow": {
     "slide_type": "slide"
    }
   },
   "source": [
    "# Programação em Python - parte 3\n",
    "\n",
    "## Objetivos de aprendizagem \n",
    "\n",
    "Vamos ver mais alguns aspetos da linguagem Python, nomeadamente:\n",
    "\n",
    "\n",
    "1. a utilização de listas\n",
    "1. a leitura da consola, vários valores por linha e até ao fim dos dados\n",
    "1. escrita formatada\n"
   ]
  },
  {
   "cell_type": "markdown",
   "metadata": {
    "slideshow": {
     "slide_type": "slide"
    }
   },
   "source": [
    "## Tipo de dados: lista\n",
    "\n",
    "### Recordemos\n",
    "\n",
    "Python é uma linguagem de programação *orientada a objetos*. Já abordámos o conceito de objetos e ainda não é agora que vamos aprofundar este tema.\n",
    "Para já, será suficiente que se considere que cada objecto é caracterizado por um identificador, um valor corrente, e um conjunto de métodos e operações que lhe são aplicáveis (e que são determinados pela *classe* do objeto). \n",
    "\n",
    "Ora sucede também que o Python é uma linguagem *fortemente tipada*. Isto significa que se se aplicar uma operação a um valor inadequado resulta numa mensagem de erro. \n",
    "\n",
    "O sistema de tipos é dinâmico e os tipos são implícitos: se por um lado, não é necessário declarar o tipo, por outro lado cada expressão tem associado um objeto de determinado tipo.\n",
    "\n",
    "Se o valor que está associado a um objeto é sempre o mesmo, o tipo diz-se *imutável*; se existirem métodos para alterar o valor associado a um objeto então o tipo diz-se *mutável*."
   ]
  },
  {
   "cell_type": "markdown",
   "metadata": {
    "slideshow": {
     "slide_type": "slide"
    }
   },
   "source": [
    "#### Tipos básicos\n",
    "\n",
    "Em Python, cada valor pertence a um determinado tipo. Esse tipo determina quais as operações que podem ser aplicadas a esse valor. Hoje (re)veremos alguns aspetos dos tipos numéricos, de sequências e de mapeamento.\n",
    "\n",
    "Com esta perspectiva, vejamos em maior detalhe alguns tipos básicos com que já trabalhámos.\n",
    "\n",
    "Alguns tipos básicos com que já trabalhámos são: números inteiros ( **int** ),  números reais ( **float** ) e valores lógicos ( **bool** ). Os tipos básicos são **imutáveis**.\n",
    "\n",
    "Usando *type()* podemos ver o tipo. Experimentemos."
   ]
  },
  {
   "cell_type": "code",
   "execution_count": 1,
   "metadata": {
    "slideshow": {
     "slide_type": "subslide"
    }
   },
   "outputs": [
    {
     "data": {
      "text/plain": [
       "int"
      ]
     },
     "execution_count": 1,
     "metadata": {},
     "output_type": "execute_result"
    }
   ],
   "source": [
    "type(1)"
   ]
  },
  {
   "cell_type": "code",
   "execution_count": 2,
   "metadata": {
    "slideshow": {
     "slide_type": "-"
    }
   },
   "outputs": [
    {
     "data": {
      "text/plain": [
       "float"
      ]
     },
     "execution_count": 2,
     "metadata": {},
     "output_type": "execute_result"
    }
   ],
   "source": [
    "type(1.0)"
   ]
  },
  {
   "cell_type": "code",
   "execution_count": 3,
   "metadata": {
    "slideshow": {
     "slide_type": "-"
    }
   },
   "outputs": [
    {
     "data": {
      "text/plain": [
       "bool"
      ]
     },
     "execution_count": 3,
     "metadata": {},
     "output_type": "execute_result"
    }
   ],
   "source": [
    "type(True)"
   ]
  },
  {
   "cell_type": "code",
   "execution_count": 4,
   "metadata": {
    "slideshow": {
     "slide_type": "-"
    }
   },
   "outputs": [
    {
     "data": {
      "text/plain": [
       "int"
      ]
     },
     "execution_count": 4,
     "metadata": {},
     "output_type": "execute_result"
    }
   ],
   "source": [
    "type(2+2)"
   ]
  },
  {
   "cell_type": "code",
   "execution_count": 5,
   "metadata": {
    "slideshow": {
     "slide_type": "-"
    }
   },
   "outputs": [
    {
     "data": {
      "text/plain": [
       "float"
      ]
     },
     "execution_count": 5,
     "metadata": {},
     "output_type": "execute_result"
    }
   ],
   "source": [
    "type(2+2.0)"
   ]
  },
  {
   "cell_type": "code",
   "execution_count": 6,
   "metadata": {
    "slideshow": {
     "slide_type": "-"
    }
   },
   "outputs": [
    {
     "data": {
      "text/plain": [
       "bool"
      ]
     },
     "execution_count": 6,
     "metadata": {},
     "output_type": "execute_result"
    }
   ],
   "source": [
    "type(2 == 2.0)"
   ]
  },
  {
   "cell_type": "markdown",
   "metadata": {
    "slideshow": {
     "slide_type": "slide"
    }
   },
   "source": [
    "#### Strings\n",
    "\n",
    "Também já usámos cadeias de carateres ( **str** ), um tipo de sequências."
   ]
  },
  {
   "cell_type": "code",
   "execution_count": 7,
   "metadata": {
    "slideshow": {
     "slide_type": "subslide"
    }
   },
   "outputs": [
    {
     "data": {
      "text/plain": [
       "str"
      ]
     },
     "execution_count": 7,
     "metadata": {},
     "output_type": "execute_result"
    }
   ],
   "source": [
    "type('Maria')"
   ]
  },
  {
   "cell_type": "code",
   "execution_count": 8,
   "metadata": {
    "slideshow": {
     "slide_type": "-"
    }
   },
   "outputs": [
    {
     "data": {
      "text/plain": [
       "'M'"
      ]
     },
     "execution_count": 8,
     "metadata": {},
     "output_type": "execute_result"
    }
   ],
   "source": [
    "nome = 'Maria'\n",
    "nome[0]"
   ]
  },
  {
   "cell_type": "markdown",
   "metadata": {
    "slideshow": {
     "slide_type": "-"
    }
   },
   "source": [
    "Mas\n",
    "    `nome[0] = 'm'` \n",
    "não funciona porque as cadeias de carateres em Python são **imutáveis**.\n",
    "\n",
    "Se tentasse teria um erro!"
   ]
  },
  {
   "cell_type": "code",
   "execution_count": 9,
   "metadata": {
    "slideshow": {
     "slide_type": "subslide"
    }
   },
   "outputs": [
    {
     "name": "stdout",
     "output_type": "stream",
     "text": [
      "M\n",
      "a\n",
      "r\n",
      "i\n",
      "a\n"
     ]
    }
   ],
   "source": [
    "# Porque as strings são sequências podemos fazer\n",
    "nome = 'Maria'; \n",
    "for letra in nome:\n",
    "    print(letra)"
   ]
  },
  {
   "cell_type": "markdown",
   "metadata": {
    "slideshow": {
     "slide_type": "slide"
    }
   },
   "source": [
    "### Listas\n",
    "\n",
    "As [listas](https://docs.python.org/pt-br/3/tutorial/introduction.html#lists) são um tipo de dados *composto* usado para agrupar outros valores. Este tipo de dados é também designado *iterável* ou *sequencial*. Não nos preocupemos para já demasiado com estas designações, teremos mais oportunidades de detalhar.\n",
    "\n",
    "O que é muito interessante é que as listas são **mutáveis**.\n",
    "\n",
    "Uma lista pode ser escrita como uma sequência de valores separados por vírgula e contidos entre parênteses retos. Embora as listas possam conter elementos de tipos variados, normalmente os elementos são todos do mesmo tipo. \n",
    "\n",
    "#### Introdução"
   ]
  },
  {
   "cell_type": "code",
   "execution_count": 10,
   "metadata": {
    "slideshow": {
     "slide_type": "-"
    }
   },
   "outputs": [],
   "source": [
    "primos_até_10 = [2, 3, 5, 7]"
   ]
  },
  {
   "cell_type": "code",
   "execution_count": 11,
   "metadata": {
    "slideshow": {
     "slide_type": "-"
    }
   },
   "outputs": [
    {
     "data": {
      "text/plain": [
       "[2, 3, 5, 7]"
      ]
     },
     "execution_count": 11,
     "metadata": {},
     "output_type": "execute_result"
    }
   ],
   "source": [
    "primos_até_10"
   ]
  },
  {
   "cell_type": "markdown",
   "metadata": {
    "slideshow": {
     "slide_type": "subslide"
    }
   },
   "source": [
    "Podemos indexar a lista (ou seja, aceder a uma posição usando o índice)"
   ]
  },
  {
   "cell_type": "code",
   "execution_count": 12,
   "metadata": {
    "slideshow": {
     "slide_type": "-"
    }
   },
   "outputs": [
    {
     "data": {
      "text/plain": [
       "2"
      ]
     },
     "execution_count": 12,
     "metadata": {},
     "output_type": "execute_result"
    }
   ],
   "source": [
    "primos_até_10 [0]"
   ]
  },
  {
   "cell_type": "markdown",
   "metadata": {
    "slideshow": {
     "slide_type": "-"
    }
   },
   "source": [
    "Se quiser saber quantos elementos tenho"
   ]
  },
  {
   "cell_type": "code",
   "execution_count": 13,
   "metadata": {
    "slideshow": {
     "slide_type": "-"
    }
   },
   "outputs": [
    {
     "data": {
      "text/plain": [
       "4"
      ]
     },
     "execution_count": 13,
     "metadata": {},
     "output_type": "execute_result"
    }
   ],
   "source": [
    "len(primos_até_10)"
   ]
  },
  {
   "cell_type": "markdown",
   "metadata": {
    "slideshow": {
     "slide_type": "subslide"
    }
   },
   "source": [
    "Algumas operações alteram a lista, pelo que se não quiser alterações, devo ter o cuidado de guardar criar uma versão de trabalho."
   ]
  },
  {
   "cell_type": "code",
   "execution_count": 14,
   "metadata": {
    "slideshow": {
     "slide_type": "-"
    }
   },
   "outputs": [
    {
     "name": "stdout",
     "output_type": "stream",
     "text": [
      "[2, 3, 5, 7]\n",
      "[7, 5, 3, 2]\n"
     ]
    }
   ],
   "source": [
    "primos_até_10_invertido = primos_até_10.copy()\n",
    "primos_até_10_invertido.reverse()\n",
    "print(primos_até_10)\n",
    "print(primos_até_10_invertido)"
   ]
  },
  {
   "cell_type": "markdown",
   "metadata": {},
   "source": [
    "Mas atenção: tenho que usar **.copy**.\n",
    "Se tivesse apenas criado uma nova variável, estava a falar da mesma lista."
   ]
  },
  {
   "cell_type": "code",
   "execution_count": 15,
   "metadata": {},
   "outputs": [
    {
     "name": "stdout",
     "output_type": "stream",
     "text": [
      "[7, 5, 3, 2]\n",
      "[7, 5, 3, 2]\n"
     ]
    }
   ],
   "source": [
    "primos_até_10_invertido = primos_até_10 # sem o copy\n",
    "primos_até_10_invertido.reverse()\n",
    "print(primos_até_10)\n",
    "print(primos_até_10_invertido)"
   ]
  },
  {
   "cell_type": "markdown",
   "metadata": {
    "slideshow": {
     "slide_type": "subslide"
    }
   },
   "source": [
    "Vamos repor o exemplo e criar uma nova lista para conter, em breve, os números primos até 20."
   ]
  },
  {
   "cell_type": "code",
   "execution_count": 16,
   "metadata": {},
   "outputs": [],
   "source": [
    "primos_até_10 = [2, 3, 5, 7]\n",
    "primos_até_20 = []"
   ]
  },
  {
   "cell_type": "markdown",
   "metadata": {
    "slideshow": {
     "slide_type": "subslide"
    }
   },
   "source": [
    "Começamos por acrescentar os primos_até_10, um a um "
   ]
  },
  {
   "cell_type": "code",
   "execution_count": 17,
   "metadata": {},
   "outputs": [
    {
     "name": "stdout",
     "output_type": "stream",
     "text": [
      "[2, 3, 5, 7]\n"
     ]
    }
   ],
   "source": [
    "primos_até_20.append(primos_até_10[0])\n",
    "primos_até_20.append(primos_até_10[1])\n",
    "primos_até_20.append(primos_até_10[2])\n",
    "primos_até_20.append(primos_até_10[3])\n",
    "\n",
    "print(primos_até_20)"
   ]
  },
  {
   "cell_type": "markdown",
   "metadata": {},
   "source": [
    "Ou mesmo, todos de uma vez"
   ]
  },
  {
   "cell_type": "code",
   "execution_count": 18,
   "metadata": {},
   "outputs": [
    {
     "name": "stdout",
     "output_type": "stream",
     "text": [
      "[2, 3, 5, 7]\n"
     ]
    }
   ],
   "source": [
    "primos_até_20 = []\n",
    "for elem in primos_até_10:\n",
    "    primos_até_20.append(elem)\n",
    "print(primos_até_20)"
   ]
  },
  {
   "cell_type": "markdown",
   "metadata": {},
   "source": [
    "**Atenção**: não podemos adicionar a lista de uma só vez."
   ]
  },
  {
   "cell_type": "code",
   "execution_count": 19,
   "metadata": {
    "slideshow": {
     "slide_type": "-"
    }
   },
   "outputs": [
    {
     "data": {
      "text/plain": [
       "[[2, 3, 5, 7]]"
      ]
     },
     "execution_count": 19,
     "metadata": {},
     "output_type": "execute_result"
    }
   ],
   "source": [
    "primos_até_20_temporário = []\n",
    "primos_até_20_temporário.append(primos_até_10)\n",
    "primos_até_20_temporário"
   ]
  },
  {
   "cell_type": "markdown",
   "metadata": {
    "slideshow": {
     "slide_type": "-"
    }
   },
   "source": [
    "porque teríamos uma lista onde o primeiro elemento da lista seria uma lista! Não era isto que queríamos. "
   ]
  },
  {
   "cell_type": "markdown",
   "metadata": {
    "slideshow": {
     "slide_type": "subslide"
    }
   },
   "source": [
    "Acrescentemos agora alguns elementos"
   ]
  },
  {
   "cell_type": "code",
   "execution_count": 20,
   "metadata": {
    "slideshow": {
     "slide_type": "-"
    }
   },
   "outputs": [],
   "source": [
    "primos_até_20.append(11)\n",
    "primos_até_20.append(11) #repetimos o mesmo elemento\n",
    "primos_até_20.append(13)\n",
    "primos_até_20.append(17)\n",
    "primos_até_20.append(19)"
   ]
  },
  {
   "cell_type": "code",
   "execution_count": 21,
   "metadata": {
    "slideshow": {
     "slide_type": "-"
    }
   },
   "outputs": [
    {
     "name": "stdout",
     "output_type": "stream",
     "text": [
      "[2, 3, 5, 7, 11, 11, 13, 17, 19]\n"
     ]
    }
   ],
   "source": [
    "print( primos_até_20 )"
   ]
  },
  {
   "cell_type": "markdown",
   "metadata": {
    "slideshow": {
     "slide_type": "subslide"
    }
   },
   "source": [
    "Ups! E quantas vezes surge o elemento 11 na lista? e onde?"
   ]
  },
  {
   "cell_type": "code",
   "execution_count": 22,
   "metadata": {
    "slideshow": {
     "slide_type": "-"
    }
   },
   "outputs": [
    {
     "data": {
      "text/plain": [
       "2"
      ]
     },
     "execution_count": 22,
     "metadata": {},
     "output_type": "execute_result"
    }
   ],
   "source": [
    "primos_até_20.count(11)"
   ]
  },
  {
   "cell_type": "code",
   "execution_count": 23,
   "metadata": {
    "slideshow": {
     "slide_type": "-"
    }
   },
   "outputs": [
    {
     "data": {
      "text/plain": [
       "4"
      ]
     },
     "execution_count": 23,
     "metadata": {},
     "output_type": "execute_result"
    }
   ],
   "source": [
    "primos_até_20.index(11)"
   ]
  },
  {
   "cell_type": "markdown",
   "metadata": {
    "slideshow": {
     "slide_type": "subslide"
    }
   },
   "source": [
    "Retiremos então o elemento da posição 4"
   ]
  },
  {
   "cell_type": "code",
   "execution_count": 24,
   "metadata": {
    "slideshow": {
     "slide_type": "subslide"
    }
   },
   "outputs": [
    {
     "data": {
      "text/plain": [
       "[2, 3, 5, 7, 11, 13, 17, 19]"
      ]
     },
     "execution_count": 24,
     "metadata": {},
     "output_type": "execute_result"
    }
   ],
   "source": [
    "primos_até_20[4:5] = []\n",
    "primos_até_20"
   ]
  },
  {
   "cell_type": "markdown",
   "metadata": {
    "slideshow": {
     "slide_type": "subslide"
    }
   },
   "source": [
    "E podemos pedir o último elemento, o penúltimo, "
   ]
  },
  {
   "cell_type": "code",
   "execution_count": 25,
   "metadata": {
    "slideshow": {
     "slide_type": "-"
    }
   },
   "outputs": [
    {
     "data": {
      "text/plain": [
       "19"
      ]
     },
     "execution_count": 25,
     "metadata": {},
     "output_type": "execute_result"
    }
   ],
   "source": [
    "primos_até_20[-1]"
   ]
  },
  {
   "cell_type": "code",
   "execution_count": 26,
   "metadata": {
    "slideshow": {
     "slide_type": "-"
    }
   },
   "outputs": [
    {
     "data": {
      "text/plain": [
       "17"
      ]
     },
     "execution_count": 26,
     "metadata": {},
     "output_type": "execute_result"
    }
   ],
   "source": [
    "primos_até_20[-2]"
   ]
  },
  {
   "cell_type": "markdown",
   "metadata": {
    "slideshow": {
     "slide_type": "subslide"
    }
   },
   "source": [
    "Ou fazer algumas operações"
   ]
  },
  {
   "cell_type": "code",
   "execution_count": 27,
   "metadata": {
    "slideshow": {
     "slide_type": "-"
    }
   },
   "outputs": [
    {
     "data": {
      "text/plain": [
       "[2, 3, 5, 7, 2, 3, 5, 7]"
      ]
     },
     "execution_count": 27,
     "metadata": {},
     "output_type": "execute_result"
    }
   ],
   "source": [
    "primos_até_10 + primos_até_10"
   ]
  },
  {
   "cell_type": "code",
   "execution_count": 28,
   "metadata": {
    "slideshow": {
     "slide_type": "-"
    }
   },
   "outputs": [
    {
     "data": {
      "text/plain": [
       "[2, 3, 5, 7, 2, 3, 5, 7]"
      ]
     },
     "execution_count": 28,
     "metadata": {},
     "output_type": "execute_result"
    }
   ],
   "source": [
    "t_lista = primos_até_10 * 2\n",
    "t_lista"
   ]
  },
  {
   "cell_type": "markdown",
   "metadata": {
    "slideshow": {
     "slide_type": "subslide"
    }
   },
   "source": [
    "Podemos ordenar"
   ]
  },
  {
   "cell_type": "code",
   "execution_count": 29,
   "metadata": {
    "slideshow": {
     "slide_type": "-"
    }
   },
   "outputs": [
    {
     "data": {
      "text/plain": [
       "[2, 2, 3, 3, 5, 5, 7, 7]"
      ]
     },
     "execution_count": 29,
     "metadata": {},
     "output_type": "execute_result"
    }
   ],
   "source": [
    "t_lista.sort() # ordenar, por omissão crescente\n",
    "t_lista"
   ]
  },
  {
   "cell_type": "code",
   "execution_count": 30,
   "metadata": {
    "slideshow": {
     "slide_type": "-"
    }
   },
   "outputs": [
    {
     "data": {
      "text/plain": [
       "[7, 7, 5, 5, 3, 3, 2, 2]"
      ]
     },
     "execution_count": 30,
     "metadata": {},
     "output_type": "execute_result"
    }
   ],
   "source": [
    "t_lista = primos_até_10 * 2\n",
    "list.sort(t_lista, reverse=True) # ordenação decrescente\n",
    "t_lista"
   ]
  },
  {
   "cell_type": "markdown",
   "metadata": {
    "slideshow": {
     "slide_type": "subslide"
    }
   },
   "source": [
    "O que posso fazer com as listas, posso fazer com as *variáveis* do tipo lista.\n",
    "Experimente, no Spyder, fazer\n",
    "\n",
    "        list.<Tab>\n",
    "        primos_até_10.<Tab>"
   ]
  },
  {
   "cell_type": "markdown",
   "metadata": {
    "slideshow": {
     "slide_type": "slide"
    }
   },
   "source": [
    "### Uso de lista e range"
   ]
  },
  {
   "cell_type": "markdown",
   "metadata": {
    "slideshow": {
     "slide_type": "slide"
    }
   },
   "source": [
    "Já falámos de *range*. Na verdade, **range** é um tipo (uma classe) e representa uma sequência imutável de números inteiros e é muito útil para ciclos específicos."
   ]
  },
  {
   "cell_type": "code",
   "execution_count": 31,
   "metadata": {
    "slideshow": {
     "slide_type": "-"
    }
   },
   "outputs": [
    {
     "name": "stdout",
     "output_type": "stream",
     "text": [
      "0 1 2 3 4 5 6 7 8 9 "
     ]
    }
   ],
   "source": [
    "for i in range(10):\n",
    "    print(i, end = ' ')    "
   ]
  },
  {
   "cell_type": "code",
   "execution_count": 32,
   "metadata": {},
   "outputs": [
    {
     "data": {
      "text/plain": [
       "[5, 10, 15, 20, 25, 30, 35, 40, 45]"
      ]
     },
     "execution_count": 32,
     "metadata": {},
     "output_type": "execute_result"
    }
   ],
   "source": [
    "inic = 5\n",
    "fim = 50\n",
    "passo = 5\n",
    "list(range(inic, fim, passo))"
   ]
  },
  {
   "cell_type": "code",
   "execution_count": 33,
   "metadata": {},
   "outputs": [
    {
     "data": {
      "text/plain": [
       "False"
      ]
     },
     "execution_count": 33,
     "metadata": {},
     "output_type": "execute_result"
    }
   ],
   "source": [
    "t_range = range(inic, fim, passo)\n",
    "32 in t_range"
   ]
  },
  {
   "cell_type": "code",
   "execution_count": 34,
   "metadata": {},
   "outputs": [
    {
     "data": {
      "text/plain": [
       "20"
      ]
     },
     "execution_count": 34,
     "metadata": {},
     "output_type": "execute_result"
    }
   ],
   "source": [
    "t_range[3]"
   ]
  },
  {
   "cell_type": "code",
   "execution_count": 35,
   "metadata": {},
   "outputs": [
    {
     "data": {
      "text/plain": [
       "[0, 1, 4, 9, 16, 25, 36, 49, 64, 81]"
      ]
     },
     "execution_count": 35,
     "metadata": {},
     "output_type": "execute_result"
    }
   ],
   "source": [
    "quadrados = [x**2 for x in range(10)]\n",
    "quadrados"
   ]
  },
  {
   "cell_type": "markdown",
   "metadata": {
    "slideshow": {
     "slide_type": "subslide"
    }
   },
   "source": [
    "### Exemplo\n",
    "\n",
    "Neste outro exemplo, queremos saber qual é o maior elemento da lista e onde está.\n",
    "Não vamos fazer duas funções, devolvemos dois valores a partir da mesma função.\n",
    "\n",
    "Saber qual é o maior elemento consegue-se com uma estratégia simples: é o último elemento de uma lista ordenada.\n",
    "\n",
    "Para saber onde está o maior elemento, procuro-o na lista original.\n",
    "\n",
    "No Spyder, criamos um exemplo e ensaiamos as instruções que precisamos. Aqui no Jupyter Notebook, juntamos umas instruções de *print* para que tudo faça sentido.\n",
    "Depois reunimos as instruções numa função e experimentamos.\n",
    "\n",
    "Vejamos, pois."
   ]
  },
  {
   "cell_type": "code",
   "execution_count": 36,
   "metadata": {
    "slideshow": {
     "slide_type": "subslide"
    }
   },
   "outputs": [],
   "source": [
    "# A minha lista de teste\n",
    "tt_lista = [2, 5, 7, 1, 4, -16]"
   ]
  },
  {
   "cell_type": "code",
   "execution_count": 37,
   "metadata": {},
   "outputs": [
    {
     "data": {
      "text/plain": [
       "[2, 5, 7, 1, 4, -16]"
      ]
     },
     "execution_count": 37,
     "metadata": {},
     "output_type": "execute_result"
    }
   ],
   "source": [
    "# Faço já os ensaios pensando que a função vai ter como parâmetro t\n",
    "t = list.copy(tt_lista)\n",
    "\n",
    "t"
   ]
  },
  {
   "cell_type": "code",
   "execution_count": 38,
   "metadata": {},
   "outputs": [
    {
     "data": {
      "text/plain": [
       "[-16, 1, 2, 4, 5, 7]"
      ]
     },
     "execution_count": 38,
     "metadata": {},
     "output_type": "execute_result"
    }
   ],
   "source": [
    "# Vou precisar de uma cópia para não perder a ordem original\n",
    "v = list.copy(t)\n",
    "\n",
    "# Uso o método sort das listas para ordenar os elementos na lista v\n",
    "v.sort()\n",
    "\n",
    "# E tenho então\n",
    "v"
   ]
  },
  {
   "cell_type": "code",
   "execution_count": 39,
   "metadata": {
    "slideshow": {
     "slide_type": "subslide"
    }
   },
   "outputs": [
    {
     "name": "stdout",
     "output_type": "stream",
     "text": [
      "A minha lista ordenada é [-16, 1, 2, 4, 5, 7]\n"
     ]
    }
   ],
   "source": [
    "print('A minha lista ordenada é', v)"
   ]
  },
  {
   "cell_type": "code",
   "execution_count": 40,
   "metadata": {
    "slideshow": {
     "slide_type": "-"
    }
   },
   "outputs": [],
   "source": [
    "# Guardo o maior elemento, que é o primeiro a contar do fim\n",
    "maior = v[-1]"
   ]
  },
  {
   "cell_type": "code",
   "execution_count": 41,
   "metadata": {
    "slideshow": {
     "slide_type": "-"
    }
   },
   "outputs": [
    {
     "name": "stdout",
     "output_type": "stream",
     "text": [
      "O maior é 7\n"
     ]
    }
   ],
   "source": [
    "print(f'O maior é {maior:d}')"
   ]
  },
  {
   "cell_type": "code",
   "execution_count": 42,
   "metadata": {
    "slideshow": {
     "slide_type": "-"
    }
   },
   "outputs": [
    {
     "name": "stdout",
     "output_type": "stream",
     "text": [
      "A minha lista é [2, 5, 7, 1, 4, -16]\n",
      "O maior elemento é o 7 e está na posição 2\n"
     ]
    }
   ],
   "source": [
    "# E vejo onde estava na lista original\n",
    "onde = t.index(maior)\n",
    "\n",
    "print('A minha lista é', t)\n",
    "print('O maior elemento é o {0:d} e está na posição {1:d}'.format(maior, onde))\n"
   ]
  },
  {
   "cell_type": "code",
   "execution_count": 43,
   "metadata": {
    "slideshow": {
     "slide_type": "subslide"
    }
   },
   "outputs": [
    {
     "data": {
      "text/plain": [
       "[2, 5, 7, 1, 4, -16]"
      ]
     },
     "execution_count": 43,
     "metadata": {},
     "output_type": "execute_result"
    }
   ],
   "source": [
    "# Juntando tudo.\n",
    "# A minha lista de teste\n",
    "tt_lista"
   ]
  },
  {
   "cell_type": "code",
   "execution_count": 44,
   "metadata": {},
   "outputs": [],
   "source": [
    "# A minha função que devolve dois valores\n",
    "def maior_onde(t):\n",
    "    \"\"\"Função que devolve o maior valor de uma lista e o seu índice.\"\"\"\n",
    "    v = list.copy(t)\n",
    "    v.sort()\n",
    "    maior = v[-1]\n",
    "    onde = t.index(maior)\n",
    "    return maior, onde"
   ]
  },
  {
   "cell_type": "code",
   "execution_count": 45,
   "metadata": {},
   "outputs": [
    {
     "data": {
      "text/plain": [
       "(7, 2)"
      ]
     },
     "execution_count": 45,
     "metadata": {},
     "output_type": "execute_result"
    }
   ],
   "source": [
    "# e aplico a função à minha lista de teste\n",
    "maior_onde(tt_lista)\n",
    "    "
   ]
  },
  {
   "cell_type": "code",
   "execution_count": 46,
   "metadata": {},
   "outputs": [
    {
     "name": "stdout",
     "output_type": "stream",
     "text": [
      "x = 7  y = 2\n"
     ]
    }
   ],
   "source": [
    "x, y = maior_onde(tt_lista)\n",
    "print ('x =', x ,' y =', y)"
   ]
  },
  {
   "cell_type": "markdown",
   "metadata": {
    "slideshow": {
     "slide_type": "slide"
    }
   },
   "source": [
    "(Leitura)=\n",
    "## Leitura da consola"
   ]
  },
  {
   "source": [
    "Já vimos alguns casos em que aparecem mensagens de erro. Acontece que em alguns desses casos queremos _interceptar_ o erro, ou seja, não permitir que o programa termine por causa desse erro e reagir à situação de forma mais positiva. A forma de fazer isso é usar a instrução *try-except*.\n",
    "\n",
    "A instrução *try-except* é constituída por dois blocos: o bloco do *try* e o bloco do *except*. No bloco do *try* incluímos as instruções quer poderão dar origem a erros. No bloco do *except*, incluímos o tratamento desse erro. Mas, tipicamente, indicamos quais os erros que desejamos tratar.\n",
    "\n",
    "E usamos estas funcionalidades para ler dados da consola, tantas vezes quantas necessárias, e terminamos o programa graciosamente, sem erros.\n",
    "\n",
    "No programa seguinte temos um ciclo *while* que não termina por si só. A forma que usamos para terminar graciosamente este programa é chamando a função de saída (*sys.exit()*). E chamamos a função de saída se a leitura dos dados não correr bem, nomeadamente se chegarmos ao fim dos dados - EOFError - ou se o utilizador primir as teclas <Ctrl><C> - KeyboardInterrupt."
   ],
   "cell_type": "markdown",
   "metadata": {}
  },
  {
   "cell_type": "markdown",
   "metadata": {
    "slideshow": {
     "slide_type": "-"
    }
   },
   "source": [
    "Nota: este programa deve ser experimentado na consola.\n",
    "\n",
    "\n",
    "    import sys\n",
    "\n",
    "    def soma(x, y):\n",
    "        return int(x)+int(y)\n",
    "\n",
    "\n",
    "    def test_soma_e_segue():\n",
    "        while True:\n",
    "            try:\n",
    "                line = input().split()\n",
    "            except (EOFError, KeyboardInterrupt):\n",
    "                sys.exit(0)\n",
    "            if line:\n",
    "                x,y = line\n",
    "                z = soma(x,y)\n",
    "                print(z)\n",
    "            else:\n",
    "                sys.exit(0)\n",
    "\n",
    "    if __name__ == '__main__':\n",
    "        test_soma_e_segue()\n",
    "  "
   ]
  },
  {
   "cell_type": "markdown",
   "metadata": {
    "slideshow": {
     "slide_type": "slide"
    }
   },
   "source": [
    "## Apresentar informação\n",
    "\n",
    "\n",
    "Para apresentar informação usamos **print**. Já o usámos em algumas instruções simples. Na documentação do Python pode encontrar mais exemplos sobre [formas elaboradas de escrita](https://docs.python.org/pt-br/3/tutorial/inputoutput.html#fancier-output-formatting).\n",
    "Vejamos alguns dos exemplos mais interessantes para agora.\n"
   ]
  },
  {
   "cell_type": "code",
   "execution_count": 47,
   "metadata": {
    "slideshow": {
     "slide_type": "slide"
    }
   },
   "outputs": [
    {
     "name": "stdout",
     "output_type": "stream",
     "text": [
      "3.141592653589793\n",
      "O valor de pi é aproximadamente 3.142.\n",
      "O valor de pi é aproximadamente 3.142.\n",
      "3.142e+00\n"
     ]
    }
   ],
   "source": [
    "from math import pi\n",
    "print(pi)\n",
    "print(f'O valor de pi é aproximadamente {pi:.3f}.')\n",
    "print('O valor de pi é aproximadamente {0:.3f}.'.format(pi))\n",
    "print('{0:1.3e}'.format(pi))"
   ]
  },
  {
   "cell_type": "code",
   "execution_count": 48,
   "metadata": {
    "slideshow": {
     "slide_type": "slide"
    }
   },
   "outputs": [
    {
     "name": "stdout",
     "output_type": "stream",
     "text": [
      "3.141593 x 1 ~= 3.142 \n",
      "3.141593 x 2 ~= 6.283 \n"
     ]
    }
   ],
   "source": [
    "for i in range(1,3):\n",
    "    print('{0:f} x {1:d} ~= {2:1.3f} '.format(pi, i, i*pi))"
   ]
  },
  {
   "cell_type": "code",
   "execution_count": 49,
   "metadata": {
    "slideshow": {
     "slide_type": "slide"
    }
   },
   "outputs": [
    {
     "name": "stdout",
     "output_type": "stream",
     "text": [
      "1    10\n",
      "2   100\n",
      "3  1000\n",
      "4 10000\n"
     ]
    }
   ],
   "source": [
    "for i in range(1, 5):\n",
    "    print('{0:d}{1:> 6d}'.format(i, 10**i))"
   ]
  },
  {
   "cell_type": "code",
   "execution_count": 50,
   "metadata": {
    "slideshow": {
     "slide_type": "slide"
    }
   },
   "outputs": [
    {
     "name": "stdout",
     "output_type": "stream",
     "text": [
      "Range(1,5) vai iterar sobre: 1;2;3;4;"
     ]
    }
   ],
   "source": [
    "print ('Range(1,5) vai iterar sobre', end = \": \")\n",
    "for i in range(1, 5):    \n",
    "    print(i,  end = \";\")"
   ]
  },
  {
   "cell_type": "markdown",
   "metadata": {},
   "source": [
    "Se quisermos todos os valores numa linha, podemos criar a string pretendida e apresentá-la de uma só vez."
   ]
  },
  {
   "cell_type": "code",
   "execution_count": 51,
   "metadata": {},
   "outputs": [
    {
     "name": "stdout",
     "output_type": "stream",
     "text": [
      "1 2 3 4\n"
     ]
    }
   ],
   "source": [
    "resultado = ''\n",
    "for i in range(1, 5):\n",
    "    if len(resultado) == 0:\n",
    "        resultado = str(i)\n",
    "    else:\n",
    "        resultado = resultado + ' ' + str(i)\n",
    "print(resultado)"
   ]
  }
 ],
 "metadata": {
  "kernelspec": {
   "display_name": "Python 3",
   "language": "python",
   "name": "python3"
  },
  "language_info": {
   "codemirror_mode": {
    "name": "ipython",
    "version": 3
   },
   "file_extension": ".py",
   "mimetype": "text/x-python",
   "name": "python",
   "nbconvert_exporter": "python",
   "pygments_lexer": "ipython3",
   "version": "3.7.8"
  }
 },
 "nbformat": 4,
 "nbformat_minor": 1
}