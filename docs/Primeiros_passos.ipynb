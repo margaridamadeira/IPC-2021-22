{
 "cells": [
  {
   "cell_type": "markdown",
   "metadata": {},
   "source": [
    "# Primeiros passos na programação em Python\n",
    "\n",
    "Nas primeiras aulas práticas vamos ensaiar algumas das ferramentas que temos disponíveis.\n"
   ]
  },
  {
   "cell_type": "markdown",
   "metadata": {},
   "source": [
    "## Usar o posto de trabalho\n",
    "\n",
    "\n",
    "Entrar no computador faz-se usando o identificador oficial da Universidade do Algarve, estilo a12345, (sem a parte @ualg.pt), e dando a password atribuída. Por vezes demora mais tempo do que esperaríamos, mas é mesmo assim.\n",
    "\n",
    "Na escolha das imagens, usamos a configuração do DEEI. \n",
    "\n",
    "Experimente, mesmo que tenha o seu computador pessoal consigo."
   ]
  },
  {
   "cell_type": "markdown",
   "metadata": {},
   "source": [
    "## Criar uma área de trabalho para Introdução à programação científica\n",
    "\n",
    "1. Na pasta *Documents* da sua área crie uma pasta IPC. Dentro desta, crie uma pasta geral.\n",
    "Guarde tudo o que tiver a ver com a nossa cadeira nessa pasta! \n",
    "\n",
    "1. Abra o IDE Spyder (menu *Iniciar* > *Anaconda* > *Spyder*)  e crie um pequeno texto, como quiser e com o que quiser. Guarde-o na sua pasta geral.\n",
    "E, se for essa a sua opção, faça isto no seu computador pessoal também. Mantenha os dois computadores “iguais”, por assim dizer. Use a sua área do [OneDrive](https://onedrive.live.com/about/en-us/signin/) para manter a informação: no fim da aula, passe para lá os seus ficheiros, e em casa trabalhe nessa pasta; quando voltar à aula, terá lá tudo o que fez fora da aula.\n",
    "\n",
    "1. Se estiver a usar o computador da sala, saia da sessão. Depois volte a entrar, noutro computador. Verifique que o seu ficheiro está lá."
   ]
  },
  {
   "cell_type": "markdown",
   "metadata": {},
   "source": [
    "## Primeiros passos\n",
    "\n",
    "1. No menu *Iniciar* do computador, localize o *Anaconda Prompt*.\n",
    "\n",
    "1. Para iniciar uma sessão de Python, escreva\n",
    "\n",
    "        python\n",
    " \n",
    "    A linha de comando do python é representada por '>>>', designada *prompt*. Na linha de comando, a introdução de uma instrução completa é seguida pela sua execução.\n",
    "\n",
    "    Usando o exemplo mais famoso da informática, escreva:\n",
    "\n",
    "        print (\"Olá mundo\")\n",
    "    e pressione *Enter*. Fará com que seja apresentado:\n",
    "\n",
    "        Olá mundo\n",
    "    \n",
    "    Para sair, escreva:\n",
    "\n",
    "        exit()\n",
    "    \n",
    "1. Inicie uma sessão de IPython, escrevendo\n",
    "\n",
    "        ipython\n",
    "    \n",
    "    A *prompt* de comando do ipython é numerada e colorida. Faça também aqui o exemplo anterior. Para sair, escreva:\n",
    "        \n",
    "        exit()\n",
    "\n",
    "1. Uma das utilizações típicas da linha de comando do python é como calculadora. Teste agora os exemplos apresentados na [Introdução](https://tutoria.ualg.pt/2021/mod/resource/view.php?id=16235)."
   ]
  },
  {
   "cell_type": "markdown",
   "metadata": {},
   "source": [
    "## Notebook\n",
    "\n",
    "1. Descarregue o ficheiro *Introdução_fresh.ipynb* que está na Tutoria para a sua área. \n",
    "\n",
    "1. A partir do menu *Iniciar* abra agora o *Jupyter Notebook*. No separador do explorador que foi aberto, localize o ficheiro descarregado e abra-o.\n",
    "\n",
    "1. Vá pressionando as teclas *Shift*+*Enter* para executar as células. Experimente mudar o seu conteúdo. \n",
    "\n",
    "1. Os números das células de código indicam a ordem de execução. Note que se uma instrução depender de uma anterior e essa anterior ainda não tiver sido executada, haverá um erro.\n",
    "    Apague a saída de todas as células. Se, nos exemplos de uso de bibliotecas, executar a instrução que refere\n",
    "        \n",
    "        cos(pi)\n",
    "    haverá um erro. \n",
    "    Se, no futuro, se deparar com uma situação destas, mande executar todas as células anteriores e repita então a execução da célula corrente.\n",
    "    "
   ]
  }
 ],
 "metadata": {
  "kernelspec": {
   "display_name": "Python 3 (ipykernel)",
   "language": "python",
   "name": "python3"
  },
  "language_info": {
   "codemirror_mode": {
    "name": "ipython",
    "version": 3
   },
   "file_extension": ".py",
   "mimetype": "text/x-python",
   "name": "python",
   "nbconvert_exporter": "python",
   "pygments_lexer": "ipython3",
   "version": "3.9.7"
  }
 },
 "nbformat": 4,
 "nbformat_minor": 2
}
