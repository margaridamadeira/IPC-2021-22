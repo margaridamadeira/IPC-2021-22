{
 "cells": [
  {
   "cell_type": "markdown",
   "metadata": {
    "slideshow": {
     "slide_type": "slide"
    }
   },
   "source": [
    "# Programação em Python \n"
   ]
  },
  {
   "cell_type": "markdown",
   "metadata": {},
   "source": [
    "## Introdução\n",
    "\n",
    "Para criar uma solução informática temos que saber resolvê-lo e programar essa forma de resolução.\n",
    "A abordagem que adotamos para resolvermos um problema é designada algoritmo. O programa é a tradução desse algoritmo numa linguagem de programação.\n",
    "\n",
    "O que deve ser feito nas diferentes etapas do problema pode variar conforme a situação. É pois importante que sejamos capazes de definir se algo deve ser feito, ou enquanto algo deve ser feito."
   ]
  },
  {
   "cell_type": "markdown",
   "metadata": {},
   "source": [
    "## Objetivos de aprendizagem\n",
    "\n",
    "Nesta lição exploramos o desenvolvimento de soluções. Depois desta lição deveremos ser capazes de\n",
    "\n",
    "1. Construir expressões lógicas com tipos de dados nativos simples\n",
    "1. Construir instruções de controlo de fluxo usando *if* e *while*\n"
   ]
  },
  {
   "cell_type": "markdown",
   "metadata": {
    "slideshow": {
     "slide_type": "slide"
    }
   },
   "source": [
    "## Operações com resultado lógico\n",
    "\n",
    "Um dos tipos de dados nativos do Python é o tipo lógico (*bool*).\n",
    "Um valor lógico pode ser **False** ou **True** e é o resultado de uma comparação ou da avaliação de uma expressão lógica.\n"
   ]
  },
  {
   "cell_type": "markdown",
   "metadata": {},
   "source": [
    "\n",
    "### Comparação\n",
    "\n",
    "| Operador | Avalia | Exemplo |\n",
    "| -------- | ------ | --------|\n",
    "| == | igual | ```a == b``` |\n",
    "| != | diferente | ```a != b``` |\n",
    "| < | menor | ```a < b``` |\n",
    "| <= | menor ou igual | ```a <= b``` | \n",
    "| > | maior | ```a > b``` |\n",
    "| >= | maior ou igual | ```a >= b``` |\n"
   ]
  },
  {
   "cell_type": "code",
   "execution_count": 74,
   "metadata": {},
   "outputs": [
    {
     "data": {
      "text/plain": [
       "False"
      ]
     },
     "execution_count": 74,
     "metadata": {},
     "output_type": "execute_result"
    }
   ],
   "source": [
    "# Experimente: altere os valores de a, b, e o operador usado\n",
    "a = 3\n",
    "b = 5\n",
    "a == b"
   ]
  },
  {
   "cell_type": "markdown",
   "metadata": {},
   "source": [
    "\n",
    "### Operadores lógicos\n",
    "\n",
    "| Operador | Operação | Exemplo  | \n",
    "| -------- | -------- | ------- |\n",
    "| not()    | Negação  | ```not(a)``` |\n",
    "| and | e lógico | ```a and b``` |\n",
    "| or | ou lógico | ```a or b```|"
   ]
  },
  {
   "cell_type": "markdown",
   "metadata": {
    "slideshow": {
     "slide_type": "subslide"
    }
   },
   "source": [
    "#### Recordar os operadores lógicos\n",
    "\n",
    "##### not (Negação)\n",
    "\n",
    "| A | not A |\n",
    "| - |  ----------|\n",
    "| True|False|\n",
    "| False|True|"
   ]
  },
  {
   "cell_type": "markdown",
   "metadata": {
    "slideshow": {
     "slide_type": "subslide"
    }
   },
   "source": [
    "##### and (e lógico)\n",
    "\n",
    "| A | B | A and B |\n",
    "| - | - | ----------|\n",
    "| False | False| False|\n",
    "| False|True| False |\n",
    "| True | False | False|\n",
    "| True | True | True |"
   ]
  },
  {
   "cell_type": "markdown",
   "metadata": {
    "slideshow": {
     "slide_type": "subslide"
    }
   },
   "source": [
    "##### or ( ou lógico)\n",
    "\n",
    "| A | B | A or B |\n",
    "| - | - | ----------|\n",
    "| False | False | False |\n",
    "| False | True | True |\n",
    "| True | False | True|\n",
    "| True | True | True |"
   ]
  },
  {
   "cell_type": "code",
   "execution_count": 75,
   "metadata": {
    "scrolled": true,
    "slideshow": {
     "slide_type": "subslide"
    }
   },
   "outputs": [
    {
     "data": {
      "text/plain": [
       "False"
      ]
     },
     "execution_count": 75,
     "metadata": {},
     "output_type": "execute_result"
    }
   ],
   "source": [
    "# Experimente: faça variar os valores de a, b e o operador usado\n",
    "a = True; b = not a; a and b "
   ]
  },
  {
   "cell_type": "markdown",
   "metadata": {
    "slideshow": {
     "slide_type": "slide"
    }
   },
   "source": [
    "## Interrogações e ciclo *while*\n",
    "\n",
    "As ações a desempenhar na resolução de um problema podem depender das circunstâncias. \n",
    "\n",
    "Para controlarmos o que deve ou não ser feito (controlo de execução) procedemos à avaliação das circunstâncias pela interrogação de estados significativos e decidimos se é de prosseguir ou repetir.\n",
    "\n"
   ]
  },
  {
   "cell_type": "markdown",
   "metadata": {},
   "source": [
    "Vejamos então, duas formas de controlar o fluxo de execução.\n",
    "\n",
    "\n",
    "    - if\n",
    "        Se <algo se verifica> <faça-se>\n",
    "        Se <acabou o filme> <acender luzes>\n",
    "        \n",
    "    - while\n",
    "        Enquanto <algo se verifica> <faça-se>\n",
    "        Enquanto <o filme decorre> <luzes apagadas>\n"
   ]
  },
  {
   "cell_type": "markdown",
   "metadata": {},
   "source": [
    "#### Exemplos\n",
    "\n",
    "Queremos apresentar uma mensagem a indicar se um número é maior, igual, ou menor que zero.\n",
    "\n",
    "Vamos esboçar a solução e melhorando progressivamente.\n",
    "\n",
    "\n",
    "A variável *num* representará o nosso número neste caso."
   ]
  },
  {
   "cell_type": "code",
   "execution_count": 76,
   "metadata": {},
   "outputs": [],
   "source": [
    "num = 4"
   ]
  },
  {
   "cell_type": "markdown",
   "metadata": {},
   "source": [
    "Para começar, queremos a mensagem para indicar se o número é maior que zero "
   ]
  },
  {
   "cell_type": "code",
   "execution_count": 77,
   "metadata": {},
   "outputs": [
    {
     "name": "stdout",
     "output_type": "stream",
     "text": [
      "4 é maior que zero\n"
     ]
    }
   ],
   "source": [
    "if (num > 0):\n",
    "    # a identação é importante\n",
    "    print('{} é maior que zero'.format(num))"
   ]
  },
  {
   "cell_type": "markdown",
   "metadata": {},
   "source": [
    "Agora que isso está, acrescentamos outro caso. E para testar esse caso, mudamos o valor de *num*"
   ]
  },
  {
   "cell_type": "code",
   "execution_count": 78,
   "metadata": {},
   "outputs": [],
   "source": [
    "num = -2"
   ]
  },
  {
   "cell_type": "code",
   "execution_count": 79,
   "metadata": {},
   "outputs": [
    {
     "name": "stdout",
     "output_type": "stream",
     "text": [
      "-2 não é maior que zero\n"
     ]
    }
   ],
   "source": [
    "if (num > 0):\n",
    "    print('{} é maior que zero'.format(num))\n",
    "else:\n",
    "    print('{} não é maior que zero'.format(num))"
   ]
  },
  {
   "cell_type": "markdown",
   "metadata": {},
   "source": [
    "Mas não ser maior que zero, não é suficiente. \n",
    "\n",
    "Agora precisávamos de outro teste para saber se é zero, ou menor que zero."
   ]
  },
  {
   "cell_type": "code",
   "execution_count": 80,
   "metadata": {},
   "outputs": [],
   "source": [
    "num = 0 "
   ]
  },
  {
   "cell_type": "code",
   "execution_count": 81,
   "metadata": {},
   "outputs": [
    {
     "name": "stdout",
     "output_type": "stream",
     "text": [
      "0 é igual a zero\n"
     ]
    }
   ],
   "source": [
    "if (num > 0):\n",
    "    print('{} é maior que zero'.format(num))\n",
    "elif (num == 0):\n",
    "    print('{} é igual a zero'.format(num))\n",
    "else:\n",
    "    print('{} é menor que zero'.format(num))"
   ]
  },
  {
   "cell_type": "markdown",
   "metadata": {},
   "source": [
    "Vejamos outro exemplo: queremos saber se um número é par.\n",
    "\n",
    "Ora um número par é divisível por 2, ou seja, o resto da divisão por dois é zero."
   ]
  },
  {
   "cell_type": "code",
   "execution_count": 82,
   "metadata": {},
   "outputs": [],
   "source": [
    "num = 6"
   ]
  },
  {
   "cell_type": "code",
   "execution_count": 83,
   "metadata": {
    "slideshow": {
     "slide_type": "subslide"
    }
   },
   "outputs": [
    {
     "name": "stdout",
     "output_type": "stream",
     "text": [
      "6 é par\n"
     ]
    }
   ],
   "source": [
    "if (num%2) == 0:\n",
    "    # a indentação é importante\n",
    "    print(num, 'é par')"
   ]
  },
  {
   "cell_type": "code",
   "execution_count": 84,
   "metadata": {},
   "outputs": [],
   "source": [
    "num = 5"
   ]
  },
  {
   "cell_type": "code",
   "execution_count": 85,
   "metadata": {
    "slideshow": {
     "slide_type": "-"
    }
   },
   "outputs": [
    {
     "name": "stdout",
     "output_type": "stream",
     "text": [
      "5 não é par\n"
     ]
    }
   ],
   "source": [
    "if (num%2) == 0:\n",
    "   print(num, 'é par')\n",
    "else:\n",
    "   print(num, 'não é par')"
   ]
  },
  {
   "cell_type": "markdown",
   "metadata": {},
   "source": [
    "Por vezes, queremos tratar toda uma gama de elementos, mas não sabemos quantos são.\n",
    "Sabemos, isso sim, em que condições queremos fazer esse \"tratamento\".\n",
    "\n",
    "Por exemplo, queremos apresentar os elementos $a$ do intervalo $ [0, 5[ $ sabendo que $a \\in N$"
   ]
  },
  {
   "cell_type": "code",
   "execution_count": 86,
   "metadata": {},
   "outputs": [
    {
     "name": "stdout",
     "output_type": "stream",
     "text": [
      "0\n",
      "1\n",
      "2\n",
      "3\n",
      "4\n"
     ]
    }
   ],
   "source": [
    "a = 0 # condição inicial\n",
    "while (a < 5): # condição de 'validade'\n",
    "    # a indentação é importante\n",
    "    print (a)\n",
    "    a += 1 # O passo, como varia entre repetições\n"
   ]
  },
  {
   "cell_type": "markdown",
   "metadata": {},
   "source": [
    "Se quisessemos os valores de $[0, 3]$ por ordem decrescente, podíamos fazer"
   ]
  },
  {
   "cell_type": "code",
   "execution_count": 88,
   "metadata": {
    "slideshow": {
     "slide_type": "subslide"
    }
   },
   "outputs": [
    {
     "ename": "IndentationError",
     "evalue": "unindent does not match any outer indentation level (<tokenize>, line 4)",
     "output_type": "error",
     "traceback": [
      "\u001b[0;36m  File \u001b[0;32m\"<tokenize>\"\u001b[0;36m, line \u001b[0;32m4\u001b[0m\n\u001b[0;31m    a -= 1 # O passo\u001b[0m\n\u001b[0m    ^\u001b[0m\n\u001b[0;31mIndentationError\u001b[0m\u001b[0;31m:\u001b[0m unindent does not match any outer indentation level\n"
     ]
    }
   ],
   "source": [
    "a = 3 # condição inicial\n",
    "while (a >= 0): \n",
    "        print (a)\n",
    "    a -= 1 # O passo"
   ]
  },
  {
   "cell_type": "markdown",
   "metadata": {},
   "source": [
    "Criando expressões com estes operadores e conseguindo moldar o nosso programa às circunstâncias, já conseguimos fazer muitas coisas."
   ]
  },
  {
   "cell_type": "markdown",
   "metadata": {},
   "source": [
    "Vejamos agora o cálculo do fatorial de um número."
   ]
  },
  {
   "cell_type": "markdown",
   "metadata": {},
   "source": [
    "Queremos calcular o fatorial de um número usando a expressão $n! = n * (n-1)!$, para  $n > 1$"
   ]
  },
  {
   "cell_type": "code",
   "execution_count": null,
   "metadata": {},
   "outputs": [],
   "source": [
    "def fatorial_r(n):\n",
    "    \"\"\"Calculo do fatorial de um número.\n",
    "    n! = n * (n-1)! para n > 1\n",
    "    \"\"\"\n",
    "    \n",
    "    resultado = 1 # Elemento neutro da multiplicação \n",
    "    if (n>1):\n",
    "        resultado = n * fatorial_r(n-1)\n",
    "    \n",
    "    return resultado\n",
    "    \n"
   ]
  },
  {
   "cell_type": "code",
   "execution_count": null,
   "metadata": {},
   "outputs": [],
   "source": [
    "print(fatorial_r(5))"
   ]
  },
  {
   "cell_type": "markdown",
   "metadata": {},
   "source": [
    "Queremos agora calcular o fatorial de um número usando a expressão $n! = n * (n-1) * ... * 2$, para  $n > 0$"
   ]
  },
  {
   "cell_type": "code",
   "execution_count": null,
   "metadata": {},
   "outputs": [],
   "source": [
    "def fatorial_i(n):\n",
    "    \"\"\"Calculo do fatorial de um número.\n",
    "    n! = n * (n-1) * ... * 2\n",
    "    \"\"\"\n",
    "    \n",
    "    resultado = 1 # Elemento neutro da multiplicação \n",
    "    while (n>1):\n",
    "        resultado *= n \n",
    "        n -= 1        \n",
    "    \n",
    "    return resultado"
   ]
  },
  {
   "cell_type": "code",
   "execution_count": null,
   "metadata": {},
   "outputs": [],
   "source": [
    "print(fatorial_i(5))"
   ]
  },
  {
   "cell_type": "markdown",
   "metadata": {},
   "source": [
    "## Resumo\n",
    "\n",
    "Para criarmos uma solução há que decidir o que fazer ou não fazer e quando. \n",
    "\n",
    "Aprendemos como podemos construir expressões que têm um resultado do tipo lógico (*bool*) usando comparações ou operações lógicas. Usamos essas expressões para representar condições ou estados.\n",
    "\n",
    "Aprendemos a regular o que deve ser feito ou não e quando, usando interrogações (```if```) e ciclos condicionais (```while```). Já somos capazes de resolver problemas que requerem a avaliação de estados como condição para executar determinadas operações."
   ]
  }
 ],
 "metadata": {
  "celltoolbar": "Slideshow",
  "interpreter": {
   "hash": "9ddeaa86c29e9638be5ab6a311e6804f35ff6acc891c5fdf04f4904ed15ff124"
  },
  "kernelspec": {
   "display_name": "Python 3.9.2 64-bit ('IPC-2021': venv)",
   "name": "python3"
  },
  "language_info": {
   "codemirror_mode": {
    "name": "ipython",
    "version": 3
   },
   "file_extension": ".py",
   "mimetype": "text/x-python",
   "name": "python",
   "nbconvert_exporter": "python",
   "pygments_lexer": "ipython3",
   "version": "3.9.2"
  }
 },
 "nbformat": 4,
 "nbformat_minor": 1
}
